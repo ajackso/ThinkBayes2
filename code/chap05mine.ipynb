{
 "cells": [
  {
   "cell_type": "markdown",
   "metadata": {},
   "source": [
    "# Think Bayes: Chapter 5\n",
    "\n",
    "This notebook presents code and exercises from Think Bayes, second edition.\n",
    "\n",
    "Copyright 2016 Allen B. Downey\n",
    "\n",
    "MIT License: https://opensource.org/licenses/MIT"
   ]
  },
  {
   "cell_type": "code",
   "execution_count": 1,
   "metadata": {
    "collapsed": false
   },
   "outputs": [],
   "source": [
    "from __future__ import print_function, division\n",
    "\n",
    "% matplotlib inline\n",
    "import warnings\n",
    "warnings.filterwarnings('ignore')\n",
    "\n",
    "import numpy as np\n",
    "\n",
    "from thinkbayes2 import Pmf, Cdf, Suite, Beta\n",
    "import thinkplot"
   ]
  },
  {
   "cell_type": "markdown",
   "metadata": {},
   "source": [
    "## Odds\n",
    "\n",
    "The following function converts from probabilities to odds."
   ]
  },
  {
   "cell_type": "code",
   "execution_count": 2,
   "metadata": {
    "collapsed": false
   },
   "outputs": [],
   "source": [
    "def Odds(p):\n",
    "    return p / (1-p)"
   ]
  },
  {
   "cell_type": "code",
   "execution_count": 3,
   "metadata": {
    "collapsed": false
   },
   "outputs": [
    {
     "data": {
      "text/plain": [
       "3.0"
      ]
     },
     "execution_count": 3,
     "metadata": {},
     "output_type": "execute_result"
    }
   ],
   "source": [
    "Odds(.75)"
   ]
  },
  {
   "cell_type": "markdown",
   "metadata": {},
   "source": [
    "And this function converts from odds to probabilities."
   ]
  },
  {
   "cell_type": "code",
   "execution_count": 5,
   "metadata": {
    "collapsed": false
   },
   "outputs": [],
   "source": [
    "def Probability(o):\n",
    "    return o / (o+1)"
   ]
  },
  {
   "cell_type": "code",
   "execution_count": 6,
   "metadata": {
    "collapsed": false
   },
   "outputs": [
    {
     "data": {
      "text/plain": [
       "0.75"
      ]
     },
     "execution_count": 6,
     "metadata": {},
     "output_type": "execute_result"
    }
   ],
   "source": [
    "Probability(3)"
   ]
  },
  {
   "cell_type": "markdown",
   "metadata": {},
   "source": [
    "If 20% of bettors think my horse will win, that corresponds to odds of 1:4, or 0.25."
   ]
  },
  {
   "cell_type": "code",
   "execution_count": 7,
   "metadata": {
    "collapsed": false
   },
   "outputs": [
    {
     "data": {
      "text/plain": [
       "0.25"
      ]
     },
     "execution_count": 7,
     "metadata": {},
     "output_type": "execute_result"
    }
   ],
   "source": [
    "p = 0.2\n",
    "Odds(p)"
   ]
  },
  {
   "cell_type": "markdown",
   "metadata": {},
   "source": [
    "If the odds against my horse are 1:5, that corresponds to a probability of 1/6."
   ]
  },
  {
   "cell_type": "code",
   "execution_count": 8,
   "metadata": {
    "collapsed": false
   },
   "outputs": [
    {
     "data": {
      "text/plain": [
       "0.16666666666666669"
      ]
     },
     "execution_count": 8,
     "metadata": {},
     "output_type": "execute_result"
    }
   ],
   "source": [
    "o = 1/5\n",
    "Probability(o)"
   ]
  },
  {
   "cell_type": "markdown",
   "metadata": {},
   "source": [
    "We can use the odds form of Bayes's theorem to solve the cookie problem:"
   ]
  },
  {
   "cell_type": "code",
   "execution_count": 10,
   "metadata": {
    "collapsed": false
   },
   "outputs": [
    {
     "data": {
      "text/plain": [
       "1.5"
      ]
     },
     "execution_count": 10,
     "metadata": {},
     "output_type": "execute_result"
    }
   ],
   "source": [
    "prior_odds = 1\n",
    "likelihood_ratio = 0.75 / 0.5\n",
    "post_odds = prior_odds * likelihood_ratio\n",
    "post_odds"
   ]
  },
  {
   "cell_type": "markdown",
   "metadata": {},
   "source": [
    "And then we can compute the posterior probability, if desired."
   ]
  },
  {
   "cell_type": "code",
   "execution_count": 11,
   "metadata": {
    "collapsed": false
   },
   "outputs": [
    {
     "data": {
      "text/plain": [
       "0.6"
      ]
     },
     "execution_count": 11,
     "metadata": {},
     "output_type": "execute_result"
    }
   ],
   "source": [
    "post_prob = Probability(post_odds)\n",
    "post_prob"
   ]
  },
  {
   "cell_type": "markdown",
   "metadata": {},
   "source": [
    "If we draw another cookie and it's chocolate, we can do another update:"
   ]
  },
  {
   "cell_type": "code",
   "execution_count": 12,
   "metadata": {
    "collapsed": false
   },
   "outputs": [
    {
     "data": {
      "text/plain": [
       "0.75"
      ]
     },
     "execution_count": 12,
     "metadata": {},
     "output_type": "execute_result"
    }
   ],
   "source": [
    "likelihood_ratio = 0.25 / 0.5\n",
    "post_odds *= likelihood_ratio\n",
    "post_odds"
   ]
  },
  {
   "cell_type": "markdown",
   "metadata": {},
   "source": [
    "And convert back to probability."
   ]
  },
  {
   "cell_type": "code",
   "execution_count": 13,
   "metadata": {
    "collapsed": false
   },
   "outputs": [
    {
     "data": {
      "text/plain": [
       "0.42857142857142855"
      ]
     },
     "execution_count": 13,
     "metadata": {},
     "output_type": "execute_result"
    }
   ],
   "source": [
    "post_prob = Probability(post_odds)\n",
    "post_prob"
   ]
  },
  {
   "cell_type": "markdown",
   "metadata": {},
   "source": [
    "## Oliver's blood\n",
    "\n",
    "The likelihood ratio is also useful for talking about the strength of evidence without getting bogged down talking about priors.\n",
    "\n",
    "As an example, we'll solve this problem from MacKay's {\\it Information Theory, Inference, and Learning Algorithms}:\n",
    "\n",
    "> Two people have left traces of their own blood at the scene of a crime.  A suspect, Oliver, is tested and found to have type 'O' blood.  The blood groups of the two traces are found to be of type 'O' (a common type in the local population, having frequency 60) and of type 'AB' (a rare type, with frequency 1). Do these data [the traces found at the scene] give evidence in favor of the proposition that Oliver was one of the people [who left blood at the scene]?\n",
    "\n",
    "If Oliver is\n",
    "one of the people who left blood at the crime scene, then he\n",
    "accounts for the 'O' sample, so the probability of the data\n",
    "is just the probability that a random member of the population\n",
    "has type 'AB' blood, which is 1%.\n",
    "\n",
    "If Oliver did not leave blood at the scene, then we have two\n",
    "samples to account for.  If we choose two random people from\n",
    "the population, what is the chance of finding one with type 'O'\n",
    "and one with type 'AB'?  Well, there are two ways it might happen:\n",
    "the first person we choose might have type 'O' and the second\n",
    "'AB', or the other way around.  So the total probability is\n",
    "$2 (0.6) (0.01) = 1.2$%.\n",
    "\n",
    "So the likelihood ratio is:"
   ]
  },
  {
   "cell_type": "code",
   "execution_count": 14,
   "metadata": {
    "collapsed": false
   },
   "outputs": [
    {
     "data": {
      "text/plain": [
       "0.8333333333333334"
      ]
     },
     "execution_count": 14,
     "metadata": {},
     "output_type": "execute_result"
    }
   ],
   "source": [
    "like1 = 0.01\n",
    "like2 = 2 * 0.6 * 0.01\n",
    "\n",
    "likelihood_ratio = like1 / like2\n",
    "likelihood_ratio"
   ]
  },
  {
   "cell_type": "markdown",
   "metadata": {},
   "source": [
    "Since the ratio is less than 1, it is evidence *against* the hypothesis that Oliver left blood at the scence.\n",
    "\n",
    "But it is weak evidence.  For example, if the prior odds were 1 (that is, 50% probability), the posterior odds would be 0.83, which corresponds to a probability of:"
   ]
  },
  {
   "cell_type": "code",
   "execution_count": 23,
   "metadata": {
    "collapsed": false
   },
   "outputs": [
    {
     "data": {
      "text/plain": [
       "0.45454545454545453"
      ]
     },
     "execution_count": 23,
     "metadata": {},
     "output_type": "execute_result"
    }
   ],
   "source": [
    "post_odds = 1 * like1 / like2\n",
    "Probability(post_odds)"
   ]
  },
  {
   "cell_type": "markdown",
   "metadata": {},
   "source": [
    "So this evidence doesn't \"move the needle\" very much."
   ]
  },
  {
   "cell_type": "markdown",
   "metadata": {},
   "source": [
    "**Exercise:** Suppose other evidence had made you 90% confident of Oliver's guilt.  How much would this exculpatory evince change your beliefs?  What if you initially thought there was only a 10% chance of his guilt?\n",
    "\n",
    "Notice that evidence with the same strength has a different effect on probability, depending on where you started."
   ]
  },
  {
   "cell_type": "code",
   "execution_count": 75,
   "metadata": {
    "collapsed": false
   },
   "outputs": [
    {
     "data": {
      "text/plain": [
       "0.8823529411764706"
      ]
     },
     "execution_count": 75,
     "metadata": {},
     "output_type": "execute_result"
    }
   ],
   "source": [
    "# Solution goes here\n",
    "# you are 90% confident of Oliver's guilt\n",
    "post_odds2 = 9*likelihood_ratio\n",
    "post_odds2\n",
    "Probability(post_odds2)"
   ]
  },
  {
   "cell_type": "code",
   "execution_count": 76,
   "metadata": {
    "collapsed": false
   },
   "outputs": [
    {
     "data": {
      "text/plain": [
       "0.0847457627118644"
      ]
     },
     "execution_count": 76,
     "metadata": {},
     "output_type": "execute_result"
    }
   ],
   "source": [
    "# Solution goes here\n",
    "post_odds3 = (1/9)*likelihood_ratio\n",
    "post_odds3\n",
    "Probability(post_odds3)"
   ]
  },
  {
   "cell_type": "markdown",
   "metadata": {},
   "source": [
    "## Comparing distributions\n",
    "\n",
    "Let's get back to the Kim Rhode problem from Chapter 4:\n",
    "\n",
    "> At the 2016 Summer Olympics in the Women's Skeet event, Kim Rhode faced Wei Meng in the bronze medal match. They each hit 15 of 25 targets, sending the match into sudden death. In the first round, both hit 1 of 2 targets. In the next two rounds, they each hit 2 targets. Finally, in the fourth round, Rhode hit 2 and Wei hit 1, so Rhode won the bronze medal, making her the first Summer Olympian to win an individual medal at six consecutive summer games.\n",
    "\n",
    ">But after all that shooting, what is the probability that Rhode is actually a better shooter than Wei? If the same match were held again, what is the probability that Rhode would win?\n",
    "\n",
    "I'll start with a uniform distribution for `x`, the probability of hitting a target, but we should check whether the results are sensitive to that choice.\n",
    "\n",
    "First I create a Beta distribution for each of the competitors, and update it with the results."
   ]
  },
  {
   "cell_type": "code",
   "execution_count": 117,
   "metadata": {
    "collapsed": false
   },
   "outputs": [],
   "source": [
    "rhode = Beta(1, 1, label='Rhode')\n",
    "rhode.Update((22, 11))"
   ]
  },
  {
   "cell_type": "code",
   "execution_count": 118,
   "metadata": {
    "collapsed": true
   },
   "outputs": [],
   "source": [
    "wei = Beta(1, 1, label='Wei')\n",
    "wei.Update((21, 12))"
   ]
  },
  {
   "cell_type": "markdown",
   "metadata": {},
   "source": [
    "Based on the data, the distribution for Rhode is slightly farther right than the distribution for Wei, but there is a lot of overlap."
   ]
  },
  {
   "cell_type": "code",
   "execution_count": 119,
   "metadata": {
    "collapsed": false
   },
   "outputs": [
    {
     "data": {
      "image/png": "[encoded data removed]",
      "text/plain": [
       "<matplotlib.figure.Figure at 0x109d3c6d0>"
      ]
     },
     "metadata": {},
     "output_type": "display_data"
    }
   ],
   "source": [
    "thinkplot.Pdf(rhode.MakePmf())\n",
    "thinkplot.Pdf(wei.MakePmf())\n",
    "thinkplot.Config(xlabel='x', ylabel='Probability')"
   ]
  },
  {
   "cell_type": "markdown",
   "metadata": {},
   "source": [
    "To compute the probability that Rhode actually has a higher value of `p`, there are two options:\n",
    "\n",
    "1. Sampling: we could draw random samples from the posterior distributions and compare them.\n",
    "\n",
    "2. Enumeration: we could enumerate all possible pairs of values and add up the \"probability of superiority\".\n",
    "\n",
    "I'll start with sampling.  The Beta object provides a method that draws a random value from a Beta distribution:"
   ]
  },
  {
   "cell_type": "code",
   "execution_count": 122,
   "metadata": {
    "collapsed": false
   },
   "outputs": [
    {
     "data": {
      "text/plain": [
       "0.621"
      ]
     },
     "execution_count": 122,
     "metadata": {},
     "output_type": "execute_result"
    }
   ],
   "source": [
    "iters = 1000\n",
    "count = 0\n",
    "for _ in range(iters):\n",
    "    x1 = rhode.Random()\n",
    "    x2 = wei.Random()\n",
    "    if x1 > x2:\n",
    "        count += 1\n",
    "\n",
    "count / iters"
   ]
  },
  {
   "cell_type": "markdown",
   "metadata": {},
   "source": [
    "`Beta` also provides `Sample`, which returns a NumPy array, so we an perform the comparisons using array operations:"
   ]
  },
  {
   "cell_type": "code",
   "execution_count": 121,
   "metadata": {
    "collapsed": false
   },
   "outputs": [
    {
     "data": {
      "text/plain": [
       "0.61899999999999999"
      ]
     },
     "execution_count": 121,
     "metadata": {},
     "output_type": "execute_result"
    }
   ],
   "source": [
    "rhode_sample = rhode.Sample(iters)\n",
    "wei_sample = wei.Sample(iters)\n",
    "np.mean(rhode_sample > wei_sample)"
   ]
  },
  {
   "cell_type": "markdown",
   "metadata": {},
   "source": [
    "The other option is to make `Pmf` objects that approximate the Beta distributions, and enumerate pairs of values:"
   ]
  },
  {
   "cell_type": "code",
   "execution_count": 82,
   "metadata": {
    "collapsed": false
   },
   "outputs": [],
   "source": [
    "def ProbGreater(pmf1, pmf2):\n",
    "    total = 0\n",
    "    for x1, prob1 in pmf1.Items():\n",
    "        for x2, prob2 in pmf2.Items():   \n",
    "            if x1 > x2:\n",
    "                total += prob1 * prob2\n",
    "    return total"
   ]
  },
  {
   "cell_type": "code",
   "execution_count": 89,
   "metadata": {
    "collapsed": false
   },
   "outputs": [
    {
     "data": {
      "text/plain": [
       "[(0.0, 0.0),\n",
       " (0.125, 2.05282138354946e-14),\n",
       " (0.213, 7.912534654965333e-10),\n",
       " (0.822, 0.00050123605686669),\n",
       " (0.5, 0.0007660417445003978),\n",
       " (1.0, 0.0),\n",
       " (0.011, 4.7428629406357486e-37),\n",
       " (0.184, 4.707888255228874e-11),\n",
       " (0.12, 8.903055900464051e-15),\n",
       " (0.575, 0.0027746813000893242),\n",
       " (0.434, 0.00013304454906386078),\n",
       " (0.301, 4.324681513180499e-07),\n",
       " (0.544, 0.001778407807013839),\n",
       " (0.016, 1.7054068172197972e-33),\n",
       " (0.625, 0.0043847680051239965),\n",
       " (0.48, 0.0004803815241843408),\n",
       " (0.552, 0.002018181205984855),\n",
       " (0.46, 0.0002852633306397593),\n",
       " (0.748, 0.002880602910442724),\n",
       " (0.128, 3.3307570824634284e-14),\n",
       " (0.024, 1.1663733968769893e-29),\n",
       " (0.044, 5.74431161456034e-24),\n",
       " (0.208, 5.030517454225721e-10),\n",
       " (0.551, 0.0019874088494981975),\n",
       " (0.894, 1.0617743386732771e-05),\n",
       " (0.828, 0.0004033876694460398),\n",
       " (0.298, 3.636707202198153e-07),\n",
       " (0.229, 3.1061402661070663e-09),\n",
       " (0.058, 2.129207967514569e-21),\n",
       " (0.261, 3.4627590845527405e-08),\n",
       " (0.274, 8.299606521732117e-08),\n",
       " (0.83, 0.00037402313059291),\n",
       " (0.256, 2.436822081416427e-08),\n",
       " (0.975, 8.988431939542216e-12),\n",
       " (0.195, 1.4546497195209092e-10),\n",
       " (0.79, 0.0012895866957083424),\n",
       " (0.446, 0.00019152108667071905),\n",
       " (0.52, 0.001158695885045172),\n",
       " (0.115, 3.715102145015676e-15),\n",
       " (0.156, 1.80613567195124e-12),\n",
       " (0.372, 1.4052158898328986e-05),\n",
       " (0.218, 1.2290213759577434e-09),\n",
       " (0.423, 9.346829498001304e-05),\n",
       " (0.6, 0.0036327014442701683),\n",
       " (0.349, 5.12616476185278e-06),\n",
       " (0.802, 0.0009405794558766055),\n",
       " (0.105, 5.681464031182976e-16),\n",
       " (0.087, 1.1293912118154264e-17),\n",
       " (0.197, 1.7716187464964402e-10),\n",
       " (0.597, 0.0035321007742968114),\n",
       " (0.482, 0.0005045503270076214),\n",
       " (0.122, 1.2491029767846558e-14),\n",
       " (0.96, 1.1242666421579775e-09),\n",
       " (0.98, 8.640639996434095e-13),\n",
       " (0.614, 0.00407762055680176),\n",
       " (0.22, 1.4607702021104312e-09),\n",
       " (0.564, 0.0024028904043615733),\n",
       " (0.541, 0.001692472679144779),\n",
       " (0.038, 2.4457226833137695e-25),\n",
       " (0.017, 6.400402114323977e-33),\n",
       " (0.573, 0.002706142127096938),\n",
       " (0.595, 0.0034643422862757713),\n",
       " (0.035, 4.145144894529803e-26),\n",
       " (0.324, 1.512328628396514e-06),\n",
       " (0.703, 0.004483120233740428),\n",
       " (0.045, 9.310107250878334e-24),\n",
       " (0.374, 1.526634973134496e-05),\n",
       " (0.561, 0.0023042784795829357),\n",
       " (0.977, 3.757758722330828e-12),\n",
       " (0.78, 0.0016254478551738782),\n",
       " (0.136, 1.1422191706259572e-13),\n",
       " (0.734, 0.003445510792635475),\n",
       " (0.387, 2.57009243714155e-05),\n",
       " (0.112, 2.155665721657526e-15),\n",
       " (0.082, 3.2614936641304177e-18),\n",
       " (0.42, 8.461251643798334e-05),\n",
       " (0.875, 4.059098620294608e-05),\n",
       " (0.233, 4.293599775217463e-09),\n",
       " (0.381, 2.0285648576988468e-05),\n",
       " (0.699, 0.004581119403282083),\n",
       " (0.644, 0.004782790447241181),\n",
       " (0.807, 0.0008139363728803758),\n",
       " (0.145, 4.168363695225546e-13),\n",
       " (0.502, 0.0008002889880889391),\n",
       " (0.392, 3.115122574062904e-05),\n",
       " (0.958, 1.8366469740719076e-09),\n",
       " (0.636, 0.004638889824108628),\n",
       " (0.499, 0.0007493233771435808),\n",
       " (0.863, 8.211188800027734e-05),\n",
       " (0.272, 7.281206610853171e-08),\n",
       " (0.21, 6.038996555153986e-10),\n",
       " (0.173, 1.405455720248131e-11),\n",
       " (0.152, 1.0743742803822472e-12),\n",
       " (0.37, 1.29248724819198e-05),\n",
       " (0.85, 0.00015939052784381152),\n",
       " (0.1, 2.064951697929117e-16),\n",
       " (0.123, 1.4762172376082244e-14),\n",
       " (0.622, 0.0043056681545920366),\n",
       " (0.243, 9.367743423838572e-09),\n",
       " (0.956, 2.9261417788910855e-09),\n",
       " (0.222, 1.7329390903858614e-09),\n",
       " (0.668, 0.004964132772013479),\n",
       " (0.452, 0.00022796805962966573),\n",
       " (0.231, 3.655069076066879e-09),\n",
       " (0.413, 6.670563821522706e-05),\n",
       " (0.543, 0.0017495112731762278),\n",
       " (0.952, 6.948783313454843e-09),\n",
       " (0.278, 1.0743282033009319e-07),\n",
       " (0.394, 3.360145159866505e-05),\n",
       " (0.885, 2.0829099412703804e-05),\n",
       " (0.819, 0.000555843403251461),\n",
       " (0.359, 8.049306912757038e-06),\n",
       " (0.77, 0.001995466510556011),\n",
       " (0.976, 5.867619470538858e-12),\n",
       " (0.996, 2.5270139737187364e-20),\n",
       " (0.094, 5.69462653134659e-17),\n",
       " (0.175, 1.7622714226709697e-11),\n",
       " (0.891, 1.3404272855452312e-05),\n",
       " (0.065, 2.4058240347322198e-20),\n",
       " (0.852, 0.00014480789742762722),\n",
       " (0.858, 0.00010718509924650923),\n",
       " (0.314, 8.917843034015832e-07),\n",
       " (0.291, 2.4043441885069835e-07),\n",
       " (0.463, 0.0003095574344245857),\n",
       " (0.935, 1.3126370423570014e-07),\n",
       " (0.066, 3.3267833096960476e-20),\n",
       " (0.055, 6.854430164081917e-22),\n",
       " (0.267, 5.219558441715339e-08),\n",
       " (0.75, 0.002798531396215471),\n",
       " (0.183, 4.232616196318203e-11),\n",
       " (0.311, 7.574993998725226e-07),\n",
       " (0.36, 8.41156924103962e-06),\n",
       " (0.847, 0.00018335090578879394),\n",
       " (0.959, 1.4416972671011258e-09),\n",
       " (0.029, 7.086140781744644e-28),\n",
       " (0.395, 3.4888919404541685e-05),\n",
       " (0.924, 5.649046835927701e-07),\n",
       " (0.405, 5.034303885065642e-05),\n",
       " (0.556, 0.0021433859501631546),\n",
       " (0.529, 0.0013724516596715177),\n",
       " (0.599, 0.00359932020969196),\n",
       " (0.586, 0.003154958117203742),\n",
       " (0.172, 1.253723683900985e-11),\n",
       " (0.663, 0.004959853262089179),\n",
       " (0.562, 0.002336987834365536),\n",
       " (0.746, 0.0029625615415506405),\n",
       " (0.441, 0.00016497614399462897),\n",
       " (0.099, 1.675673013452198e-16),\n",
       " (0.315, 9.411758248708321e-07),\n",
       " (0.95, 1.0395171472374409e-08),\n",
       " (0.385, 2.3768655509155098e-05),\n",
       " (0.288, 2.005196575461323e-07),\n",
       " (0.713, 0.004196747248309446),\n",
       " (0.465, 0.00032666218249236196),\n",
       " (0.307, 6.072284831863135e-07),\n",
       " (0.527, 0.0013229650656757632),\n",
       " (0.665, 0.004963766773131481),\n",
       " (0.577, 0.002843506491719547),\n",
       " (0.661, 0.004953031413977081),\n",
       " (0.317, 1.0475476883395678e-06),\n",
       " (0.322, 1.3633209338661212e-06),\n",
       " (0.939, 7.16990676855812e-08),\n",
       " (0.516, 0.0010711115623372623),\n",
       " (0.181, 3.4142385373097216e-11),\n",
       " (0.567, 0.002502859374563362),\n",
       " (0.335, 2.6318803808528467e-06),\n",
       " (0.386, 2.4718099656688053e-05),\n",
       " (0.04, 7.388319472873217e-25),\n",
       " (0.206, 4.181640259422033e-10),\n",
       " (0.039, 4.281746116206801e-25),\n",
       " (0.373, 1.4648040850605055e-05),\n",
       " (0.726, 0.0037506292822061206),\n",
       " (0.578, 0.002878006028844464),\n",
       " (0.505, 0.0008537088830998548),\n",
       " (0.548, 0.001896432385181064),\n",
       " (0.857, 0.00011285395611713646),\n",
       " (0.707, 0.004375354245756985),\n",
       " (0.907, 3.4587171149147393e-06),\n",
       " (0.431, 0.00012105344892683227),\n",
       " (0.927, 3.8953627419302363e-07),\n",
       " (0.914, 1.7319747782797327e-06),\n",
       " (0.723, 0.0038597777095986277),\n",
       " (0.855, 0.00012489493954966283),\n",
       " (0.333, 2.3845125018367166e-06),\n",
       " (0.075, 4.979080504898093e-19),\n",
       " (0.283, 1.4731758385579973e-07),\n",
       " (0.211, 6.611550894198629e-10),\n",
       " (0.199, 2.1526213902322022e-10),\n",
       " (0.686, 0.004826129463218435),\n",
       " (0.363, 9.587862562839895e-06),\n",
       " (0.458, 0.00026994479723469773),\n",
       " (0.254, 2.1120838773239856e-08),\n",
       " (0.339, 3.1978030200979416e-06),\n",
       " (0.313, 8.447765059483179e-07),\n",
       " (0.35, 5.367674750996298e-06),\n",
       " (0.177, 2.2031919739997337e-11),\n",
       " (0.047, 2.368192902187836e-23),\n",
       " (0.642, 0.004750356508565243),\n",
       " (0.626, 0.004410270713430278),\n",
       " (0.768, 0.00207279793837441),\n",
       " (0.165, 5.51366399587291e-12),\n",
       " (0.646, 0.004812752981259911),\n",
       " (0.568, 0.0025364534368923857),\n",
       " (0.203, 3.1564336378813574e-10),\n",
       " (0.196, 1.6058034979306827e-10),\n",
       " (0.968, 1.1591774281541676e-10),\n",
       " (0.28, 1.2200466697279e-07),\n",
       " (0.083, 4.207489280364685e-18),\n",
       " (0.477, 0.000445825812730471),\n",
       " (0.92, 9.027434625296498e-07),\n",
       " (0.641, 0.004733232929818038),\n",
       " (0.978, 2.3569294767346513e-12),\n",
       " (0.743, 0.0030850382491740534),\n",
       " (0.435, 0.00013725838118454112),\n",
       " (0.845, 0.00020078837747257444),\n",
       " (0.451, 0.0002215246218107552),\n",
       " (0.286, 1.774088790813796e-07),\n",
       " (0.025, 2.8312176496166684e-29),\n",
       " (0.587, 0.003189562298457143),\n",
       " (0.671, 0.0049578412288449536),\n",
       " (0.185, 5.233039519833125e-11),\n",
       " (0.093, 4.5556182006367156e-17),\n",
       " (0.722, 0.0038954119764396094),\n",
       " (0.302, 4.579358957357199e-07),\n",
       " (0.188, 7.158652794440727e-11),\n",
       " (0.601, 0.00366591617502207),\n",
       " (0.91, 2.593107542694742e-06),\n",
       " (0.533, 0.0014747777553267203),\n",
       " (0.553, 0.0020491697524651553),\n",
       " (0.153, 1.2250992814945535e-12),\n",
       " (0.27, 6.379645787273529e-08),\n",
       " (0.953, 5.6410837158116294e-09),\n",
       " (0.824, 0.0004669606628934755),\n",
       " (0.973, 2.0032086423172492e-11),\n",
       " (0.154, 1.3956359419947593e-12),\n",
       " (0.579, 0.0029125524146904817),\n",
       " (0.273, 7.774975834721808e-08),\n",
       " (0.618, 0.004194553494961288),\n",
       " (0.106, 6.913278235955793e-16),\n",
       " (0.253, 1.9652616496886415e-08),\n",
       " (0.321, 1.2939590235346054e-06),\n",
       " (0.319, 1.1648112374751542e-06),\n",
       " (0.888, 1.6777443696208845e-05),\n",
       " (0.806, 0.0008383632691053908),\n",
       " (0.908, 3.146277770059865e-06),\n",
       " (0.471, 0.0003825732873630661),\n",
       " (0.603, 0.0037318032192543613),\n",
       " (0.19, 8.79339783505621e-11),\n",
       " (0.089, 1.8177099579775135e-17),\n",
       " (0.365, 1.0451925122518961e-05),\n",
       " (0.513, 0.0010084233643055623),\n",
       " (0.987, 8.842936932183273e-15),\n",
       " (0.756, 0.0025527594012836876),\n",
       " (0.002, 2.699840776285392e-53),\n",
       " (0.241, 8.040383525169368e-09),\n",
       " (0.186, 5.812935714560347e-11),\n",
       " (0.816, 0.0006143584545314146),\n",
       " (0.803, 0.0009143506489017793),\n",
       " (0.539, 0.0016364596707218884),\n",
       " (0.053, 3.10571209780364e-22),\n",
       " (0.056, 1.0070958931277861e-21),\n",
       " (0.281, 1.2995683492971584e-07),\n",
       " (0.366, 1.0909579436931497e-05),\n",
       " (0.39, 2.8859701395107778e-05),\n",
       " (0.494, 0.0006697162782210976),\n",
       " (0.343, 3.871970141679827e-06),\n",
       " (0.866, 6.94686245207464e-05),\n",
       " (0.149, 7.2038615823195e-13),\n",
       " (0.179, 2.7465259290137093e-11),\n",
       " (0.565, 0.0024360711698213047),\n",
       " (0.266, 4.8785971584388695e-08),\n",
       " (0.358, 7.7011252801789e-06),\n",
       " (0.166, 6.2150809189066325e-12),\n",
       " (0.275, 8.856856945431658e-08),\n",
       " (0.078, 1.1385803499231952e-18),\n",
       " (0.031, 3.0044231897824375e-27),\n",
       " (0.189, 7.93654314754974e-11),\n",
       " (0.948, 1.527785890724197e-08),\n",
       " (0.026, 6.63444311252042e-29),\n",
       " (0.133, 7.26421127780623e-14),\n",
       " (0.356, 7.045093964033406e-06),\n",
       " (0.003, 1.9978212985931442e-49),\n",
       " (0.933, 1.7476774621665557e-07),\n",
       " (0.617, 0.004165838371271109),\n",
       " (0.129, 3.9031534461374395e-14),\n",
       " (0.236, 5.449206966957579e-09),\n",
       " (0.514, 0.0010290343528588247),\n",
       " (0.406, 5.2175416792476286e-05),\n",
       " (0.4, 4.199773384739968e-05),\n",
       " (0.969, 8.362651927178583e-11),\n",
       " (0.224, 2.0520012959616934e-09),\n",
       " (0.902, 5.44844977802556e-06),\n",
       " (0.989, 1.4719065753922578e-15),\n",
       " (0.377, 1.726316856959855e-05),\n",
       " (0.264, 4.257793968087024e-08),\n",
       " (0.107, 8.395594422928526e-16),\n",
       " (0.309, 6.785586045501291e-07),\n",
       " (0.583, 0.003051034390581203),\n",
       " (0.021, 6.3925831764208934e-31),\n",
       " (0.096, 8.83206294647374e-17),\n",
       " (0.119, 7.499122305480135e-15),\n",
       " (0.47, 0.0003727603696442316),\n",
       " (0.412, 6.443645404980544e-05),\n",
       " (0.793, 0.0011965372256054422),\n",
       " (0.936, 1.133158548917927e-07),\n",
       " (0.323, 1.436061834583172e-06),\n",
       " (0.124, 1.7420657202685016e-14),\n",
       " (0.354, 6.439790751671039e-06),\n",
       " (0.09, 2.2963221592588154e-17),\n",
       " (0.598, 0.0035657831237598013),\n",
       " (0.904, 4.559648110662451e-06),\n",
       " (0.657, 0.004930781346175851),\n",
       " (0.954, 4.556618672537892e-09),\n",
       " (0.012, 3.180944538721346e-36),\n",
       " (0.919, 1.010459128547578e-06),\n",
       " (0.788, 0.0013536723200066852),\n",
       " (0.869, 5.84334633390196e-05),\n",
       " (0.694, 0.004689065883709764),\n",
       " (0.411, 6.22344158458541e-05),\n",
       " (0.771, 0.001957171650427735),\n",
       " (0.511, 0.0009680539176386086),\n",
       " (0.205, 3.8094795976985987e-10),\n",
       " (0.456, 0.0002553034765828097),\n",
       " (0.693, 0.004708641058165123),\n",
       " (0.259, 3.011878103084006e-08),\n",
       " (0.16, 2.991948119969766e-12),\n",
       " (0.269, 5.968752902540535e-08),\n",
       " (0.576, 0.0028090621717711955),\n",
       " (0.51, 0.0009482940988670115),\n",
       " (0.252, 1.827981378234863e-08),\n",
       " (0.086, 8.863727051120432e-18),\n",
       " (0.034, 2.2157811275133063e-26),\n",
       " (0.784, 0.0014865753776537242),\n",
       " (0.906, 3.797248611876696e-06),\n",
       " (0.014, 9.240705781836613e-35),\n",
       " (0.073, 2.8133404581991352e-19),\n",
       " (0.647, 0.004826788035086269),\n",
       " (0.873, 4.5961753113078474e-05),\n",
       " (0.496, 0.0007007693155631357),\n",
       " (0.725, 0.0037873729253622827),\n",
       " (0.062, 8.812328632847975e-21),\n",
       " (0.351, 5.619407419938641e-06),\n",
       " (0.874, 4.320856147681498e-05),\n",
       " (0.279, 1.1450453237211486e-07),\n",
       " (0.303, 4.847755186346402e-07),\n",
       " (0.81, 0.0007433653595751506),\n",
       " (0.714, 0.004165137251291802),\n",
       " (0.658, 0.004937409174024061),\n",
       " (0.613, 0.00404756049209066),\n",
       " (0.594, 0.0034302869606494136),\n",
       " (0.404, 4.856698941224235e-05),\n",
       " (0.747, 0.0029216034345889235),\n",
       " (0.081, 2.5199001600102923e-18),\n",
       " (0.422, 9.043206277669831e-05),\n",
       " (0.485, 0.0005425503678054543),\n",
       " (0.114, 3.103987500280529e-15),\n",
       " (0.433, 0.00012894059238237706),\n",
       " (0.602, 0.003698953689366992),\n",
       " (0.812, 0.0006985721678929683),\n",
       " (0.238, 6.374410584061167e-09),\n",
       " (0.403, 4.6845831403194326e-05),\n",
       " (0.495, 0.0006851124021976742),\n",
       " (0.473, 0.0004028136297714893),\n",
       " (0.292, 2.5528826982882626e-07),\n",
       " (0.523, 0.0012273872796669707),\n",
       " (0.104, 4.659763383777852e-16),\n",
       " (0.393, 3.2355938675171714e-05),\n",
       " (0.549, 0.0019265302476997846),\n",
       " (0.608, 0.0038928509414428163),\n",
       " (0.889, 1.5582380375178777e-05),\n",
       " (0.204, 3.4685640778485986e-10),\n",
       " (0.468, 0.00035373580113106837),\n",
       " (0.635, 0.004618338475748004),\n",
       " (0.192, 1.0774429741576689e-10),\n",
       " (0.538, 0.0016088445709093243),\n",
       " (0.655, 0.004915423473996234),\n",
       " (0.08, 1.940385891207201e-18),\n",
       " (0.766, 0.002151045797471935),\n",
       " (0.7, 0.00455756609644557),\n",
       " (0.45, 0.00021523216836531978),\n",
       " (0.742, 0.0031256833206657086),\n",
       " (0.844, 0.0002099649008452653),\n",
       " (0.348, 4.894509923963422e-06),\n",
       " (0.036, 7.616311243357495e-26),\n",
       " (0.442, 0.0001700232868201129),\n",
       " (0.427, 0.00010650166213744469),\n",
       " (0.108, 1.0176028447208638e-15),\n",
       " (0.467, 0.00034451883127963403),\n",
       " (0.675, 0.004939036851707229),\n",
       " (0.702, 0.004508558043918556),\n",
       " (0.271, 6.816626589394137e-08),\n",
       " (0.488, 0.0005827039315571605),\n",
       " (0.249, 1.4678011941269711e-08),\n",
       " (0.593, 0.00339612798898331),\n",
       " (0.915, 1.559963891493644e-06),\n",
       " (0.01, 5.891548186671768e-38),\n",
       " (0.157, 2.051813899014486e-12),\n",
       " (0.071, 1.5635033614163211e-19),\n",
       " (0.535, 0.0015275941262088608),\n",
       " (0.719, 0.003999884039650425),\n",
       " (0.566, 0.002469396363813687),\n",
       " (0.437, 0.00014602467564574388),\n",
       " (0.085, 6.935706296638891e-18),\n",
       " (0.749, 0.0028395741845283224),\n",
       " (0.518, 0.001114331554383406),\n",
       " (0.285, 1.6679985682929438e-07),\n",
       " (0.332, 2.268930652088746e-06),\n",
       " (0.752, 0.0027164597574691383),\n",
       " (0.074, 3.75025657477763e-19),\n",
       " (0.841, 0.00023939913044421254),\n",
       " (0.111, 1.7917078543053698e-15),\n",
       " (0.611, 0.003986525380912959),\n",
       " (0.022, 1.7590114817829654e-30),\n",
       " (0.34, 3.3555348943405624e-06),\n",
       " (0.117, 5.295402684956914e-15),\n",
       " (0.242, 8.680437351804468e-09),\n",
       " (0.391, 2.9986182179728338e-05),\n",
       " (0.169, 8.858517687639761e-12),\n",
       " (0.884, 2.234755451184227e-05),\n",
       " (0.432, 0.00012494429080037105),\n",
       " (0.986, 1.9540821369786402e-14),\n",
       " (0.127, 2.8384473000709035e-14),\n",
       " (0.588, 0.0032241322191066814),\n",
       " (0.389, 2.777070054137753e-05),\n",
       " (0.99, 5.274928468335856e-16),\n",
       " (0.201, 2.6095770796718553e-10),\n",
       " (0.94, 6.119540691507132e-08),\n",
       " (0.881, 2.7461790767363052e-05),\n",
       " (0.064, 1.730756842649815e-20),\n",
       " (0.515, 0.0010499302705797122),\n",
       " (0.526, 0.0012986449269625643),\n",
       " (0.808, 0.0007899611735355007),\n",
       " (0.521, 0.0011813072073693673),\n",
       " (0.826, 0.000434355240540632),\n",
       " (0.796, 0.0011072906314167489),\n",
       " (0.069, 8.538248304262272e-20),\n",
       " (0.735, 0.0034061860556803113),\n",
       " (0.721, 0.003930649810443968),\n",
       " (0.842, 0.00022926420994029547),\n",
       " (0.132, 6.231401822819547e-14),\n",
       " (0.687, 0.00481147487006831),\n",
       " (0.228, 2.861536113632784e-09),\n",
       " (0.247, 1.2656685931153759e-08),\n",
       " (0.415, 7.145209189442816e-05),\n",
       " (0.023, 4.624820557480797e-30),\n",
       " (0.66, 0.004948538607783881),\n",
       " (0.397, 3.759446214524378e-05),\n",
       " (0.31, 7.170336807828569e-07),\n",
       " (0.015, 4.169159672157283e-34),\n",
       " (0.059, 3.0652959214841737e-21),\n",
       " (0.336, 2.7641096627311695e-06),\n",
       " (0.926, 4.41807330635318e-07),\n",
       " (0.741, 0.0031662140662842373),\n",
       " (0.216, 1.0320518302910117e-09),\n",
       " (0.886, 1.939713282675146e-05),\n",
       " (0.329, 1.952089701528316e-06),\n",
       " (0.838, 0.00027181652961331796),\n",
       " (0.637, 0.004658892400446394),\n",
       " (0.382, 2.1111033920905786e-05),\n",
       " (0.474, 0.0004132463211679841),\n",
       " (0.135, 9.834728666593227e-14),\n",
       " (0.629, 0.004484040216995243),\n",
       " (0.799, 0.0010219462869356477),\n",
       " (0.776, 0.001769817001954167),\n",
       " (0.439, 0.00015525772304900455),\n",
       " (0.507, 0.0008907042220152767),\n",
       " (0.49, 0.0006107001001767748),\n",
       " (0.416, 7.393275426535975e-05),\n",
       " (0.126, 2.415572323915162e-14),\n",
       " (0.537, 0.0015814937506487964),\n",
       " (0.676, 0.004932472998701994),\n",
       " (0.991, 1.6925063082207552e-16),\n",
       " (0.724, 0.0038237602360757478),\n",
       " (0.443, 0.00017519891704852197),\n",
       " (0.932, 2.0090484260050151e-07),\n",
       " (0.949, 1.262905643615034e-08),\n",
       " (0.06, 4.385066577686272e-21),\n",
       " (0.716, 0.004100440598500872),\n",
       " (0.454, 0.0002413182271711486),\n",
       " (0.421, 8.748077118919625e-05),\n",
       " (0.008, 4.444781342412622e-40),\n",
       " (0.25, 1.5797791643186005e-08),\n",
       " (0.813, 0.0006768492756901223),\n",
       " (0.375, 1.590780923501979e-05),\n",
       " (0.194, 1.316939463170213e-10),\n",
       " (0.098, 1.35671264169854e-16),\n",
       " (0.947, 1.84067196296344e-08),\n",
       " (0.171, 1.117523226441367e-11),\n",
       " (0.717, 0.004067377754077364),\n",
       " (0.284, 1.5677940790504504e-07),\n",
       " (0.862, 8.67105801786909e-05),\n",
       " (0.809, 0.0007664376113922575),\n",
       " (0.217, 1.126511996096024e-09),\n",
       " (0.709, 0.004317997100803594),\n",
       " (0.897, 8.334614404121767e-06),\n",
       " (0.503, 0.0008178209673415238),\n",
       " (0.504, 0.0008356271398280268),\n",
       " (0.761, 0.0023500746233801498),\n",
       " (0.167, 7.0000263408607414e-12),\n",
       " (0.137, 1.3249928168191963e-13),\n",
       " (0.71, 0.0042884854628388955),\n",
       " (0.26, 3.230017430211305e-08),\n",
       " (0.092, 3.6351206429348957e-17),\n",
       " (0.368, 1.1879062449073201e-05),\n",
       " (0.997, 1.0911126184280026e-21),\n",
       " (0.362, 9.180330388521856e-06),\n",
       " (0.993, 1.1148185860685176e-17),\n",
       " (0.632, 0.004553486162578448),\n",
       " (0.072, 2.1017688610859944e-19),\n",
       " (0.447, 0.0001972351191491841),\n",
       " (0.988, 3.748769872351176e-15),\n",
       " (0.429, 0.00011357948948669046),\n",
       " (0.547, 0.001866567479492388),\n",
       " (0.032, 5.972700627729308e-27),\n",
       " (0.3, 4.0830842153184894e-07),\n",
       " (0.401, 4.356257442894309e-05),\n",
       " (0.24, 7.444561573243668e-09),\n",
       " (0.139, 1.7766528017724332e-13),\n",
       " (0.887, 1.804782237951531e-05),\n",
       " (0.667, 0.00496474798552585),\n",
       " (0.596, 0.003498283680035235),\n",
       " (0.559, 0.0022393735854509744),\n",
       " (0.295, 3.0507521917676063e-07),\n",
       " (0.992, 4.736842425361273e-17),\n",
       " (0.23, 3.370176630754753e-09),\n",
       " (0.604, 0.0037644539458977465),\n",
       " (0.846, 0.00019191910496696465),\n",
       " (0.227, 2.6350301263946586e-09),\n",
       " (0.764, 0.0022301199093228362),\n",
       " (0.673, 0.004949929183585232),\n",
       " (0.162, 3.830511922316048e-12),\n",
       " (0.692, 0.0047275295603255345),\n",
       " (0.289, 2.1308871095294655e-07),\n",
       " (0.361, 8.788407280633182e-06),\n",
       " (0.517, 0.001092578574829185),\n",
       " (0.109, 1.2310621892587898e-15),\n",
       " (0.018, 2.2256853719434438e-32),\n",
       " (0.585, 0.0031203291707960637),\n",
       " (0.095, 7.100615254851463e-17),\n",
       " (0.56, 0.0022717384517299626),\n",
       " (0.282, 1.3838581099442574e-07),\n",
       " (0.346, 4.4593514219029235e-06),\n",
       " (0.331, 2.158467192673996e-06),\n",
       " (0.868, 6.194260856467829e-05),\n",
       " (0.257, 2.616061552701953e-08),\n",
       " (0.616, 0.004136770513741797),\n",
       " (0.843, 0.00021945481386370164),\n",
       " (0.998, 1.2895677219743266e-23),\n",
       " (0.355, 6.736323290847587e-06),\n",
       " (0.878, 3.350269787259167e-05),\n",
       " (0.57, 0.002604006894162975),\n",
       " (0.64, 0.004715516074269732),\n",
       " (0.612, 0.0040171917513638815),\n",
       " (0.898, 7.672264905341219e-06),\n",
       " (0.379, 1.8720287524417453e-05),\n",
       " (0.656, 0.004923451091423156),\n",
       " (0.965, 2.9012935662836447e-10),\n",
       " (0.679, 0.004908317911030615),\n",
       " (0.341, 3.5202879731762297e-06),\n",
       " (0.076, 6.58465472553436e-19),\n",
       " (0.62, 0.004250881762150278),\n",
       " (0.17, 9.953540318877842e-12),\n",
       " (0.043, 3.504125337237114e-24),\n",
       " (0.07, 1.1580081286537535e-19),\n",
       " (0.648, 0.004840182319838356),\n",
       " (0.589, 0.003258658272711912),\n",
       " (0.049, 5.788176164065588e-23),\n",
       " (0.479, 0.00046863912660016207),\n",
       " (0.436, 0.00014158433367035712),\n",
       " (0.698, 0.004604028080407271),\n",
       " (0.088, 1.434842732792438e-17),\n",
       " (0.718, 0.004033854770248621),\n",
       " (0.918, 1.1291032466339523e-06),\n",
       " (0.532, 0.0014487804863909336),\n",
       " (0.738, 0.0032869754329828845),\n",
       " (0.077, 8.674749820617755e-19),\n",
       " (0.512, 0.000988096764089509),\n",
       " (0.758, 0.0024713476519671305),\n",
       " (0.051, 1.3636863845157445e-22),\n",
       " (0.2, 2.3707843682026634e-10),\n",
       " (0.609, 0.003924343937315653),\n",
       " (0.876, 3.8104052424191425e-05),\n",
       " (0.759, 0.0024307977828684412),\n",
       " (0.928, 3.4273245441609007e-07),\n",
       " (0.929, 3.009053000286345e-07),\n",
       " (0.715, 0.004133031099998754),\n",
       " (0.263, 3.975677306015644e-08),\n",
       " (0.453, 0.00023456506318012097),\n",
       " (0.276, 9.448575270079045e-08),\n",
       " (0.223, 1.886168498990399e-09),\n",
       " (0.701, 0.00453337620102017),\n",
       " (0.778, 0.0016969777428805174),\n",
       " (0.334, 2.5054231401414014e-06),\n",
       " (0.43, 0.00011726589665718436),\n",
       " (0.798, 0.0010499556796139458),\n",
       " (0.962, 6.694427478317756e-10),\n",
       " (0.695, 0.004668810289293324),\n",
       " (0.615, 0.004107360906212471),\n",
       " (0.814, 0.0006555737982184649),\n",
       " (0.255, 2.269056255812654e-08),\n",
       " (0.118, 6.306681382472522e-15),\n",
       " (0.486, 0.000555692488427135),\n",
       " (0.68, 0.004898782238883626),\n",
       " (0.219, 1.340214130721065e-09),\n",
       " (0.013, 1.830141729758053e-35),\n",
       " (0.174, 1.5743680811976652e-11),\n",
       " (0.554, 0.0020803699089421562),\n",
       " (0.462, 0.0003012803367496492),\n",
       " (0.426, 0.00010310608343811893),\n",
       " (0.65, 0.004865019972477049),\n",
       " (0.753, 0.002675458727558314),\n",
       " (0.681, 0.004888507313382437),\n",
       " (0.472, 0.0003925901611232235),\n",
       " (0.294, 2.875645020180396e-07),\n",
       " (0.293, 2.709839026446173e-07),\n",
       " (0.944, 3.145534589076964e-08),\n",
       " (0.11, 1.486522339247902e-15),\n",
       " (0.134, 8.457551865326652e-14),\n",
       " (0.18, 3.063301771227716e-11),\n",
       " (0.545, 0.001807551612234817),\n",
       " (0.328, 1.8557901222135343e-06),\n",
       " (0.795, 0.0011366103216421202),\n",
       " (0.13, 4.567807813741092e-14),\n",
       " (0.815, 0.0006347441372449939),\n",
       " (0.963, 5.107866935836985e-10),\n",
       " (0.327, 1.7638374466119824e-06),\n",
       " (0.326, 1.676055350987005e-06),\n",
       " (0.775, 0.0018067058380037597),\n",
       " (0.659, 0.004943329772998429),\n",
       " (0.057, 1.4693245616106935e-21),\n",
       " (0.061, 6.23476629128236e-21),\n",
       " (0.883, 2.395643836815676e-05),\n",
       " (0.498, 0.0007328730013992385),\n",
       " (0.407, 5.406558711528368e-05),\n",
       " (0.05, 8.923640114369475e-23),\n",
       " (0.525, 0.001274608100843887),\n",
       " (0.754, 0.002634499259289001),\n",
       " (0.383, 2.196605796016827e-05),\n",
       " (0.627, 0.004435323910179114),\n",
       " (0.571, 0.0026379520005054436),\n",
       " (0.649, 0.004852928628761558),\n",
       " (0.979, 1.44501965804225e-12),\n",
       " (0.696, 0.004647880833101532),\n",
       " (0.831, 0.0003599304318928323),\n",
       " (0.419, 8.182542224517273e-05),\n",
       " (0.555, 0.00211177693913892),\n",
       " (0.864, 7.770923258838461e-05),\n",
       " (0.187, 6.452880742586484e-11),\n",
       " (0.305, 5.428397098004839e-07),\n",
       " (0.141, 2.3713058575808375e-13),\n",
       " (0.268, 5.582511852382307e-08),\n",
       " (0.44, 0.00016005508386672065),\n",
       " (0.63, 0.004507682785023458),\n",
       " (0.193, 1.1915491841770316e-10),\n",
       " (0.909, 2.8582686107269204e-06),\n",
       " (0.678, 0.004917112528432793),\n",
       " (0.794, 0.0011663604129720092),\n",
       " (0.041, 1.2574531705330934e-24),\n",
       " (0.645, 0.004798084576996773),\n",
       " (0.481, 0.0004923510972120066),\n",
       " (0.892, 1.241453336897879e-05),\n",
       " (0.005, 1.4846916879078014e-44),\n",
       " (0.287, 1.8863785527389586e-07),\n",
       " (0.839, 0.0002606694094915163),\n",
       " (0.999, 6.436992965218e-27),\n",
       " (0.32, 1.227834568438794e-06),\n",
       " (0.542, 0.0017208652127325237),\n",
       " (0.509, 0.0009288164924093769),\n",
       " (0.905, 4.1636162439229085e-06),\n",
       " (0.399, 4.048230109211231e-05),\n",
       " (0.491, 0.0006250729797973736),\n",
       " (0.232, 3.962336740922272e-09),\n",
       " (0.444, 0.00018050546012682685),\n",
       " (0.689, 0.004780017149938206),\n",
       " (0.414, 6.904362329971125e-05),\n",
       " (0.464, 0.00031801715816447005),\n",
       " (0.916, 1.402861707560308e-06),\n",
       " (0.15, 8.238690261693813e-13),\n",
       " (0.623, 0.00433245611512753),\n",
       " (0.732, 0.003523455664294721),\n",
       " (0.158, 2.3287947481754425e-12),\n",
       " (0.396, 3.62195215183598e-05),\n",
       " (0.198, 1.953415054553483e-10),\n",
       " (0.769, 0.002034012174168309),\n",
       " (0.178, 2.460777443783259e-11),\n",
       " (0.765, 0.0021904853446747404),\n",
       " (0.621, 0.004278473112472881),\n",
       " (0.508, 0.0009096201958600157),\n",
       " (0.817, 0.0005944146770063363),\n",
       " (0.424, 9.659139898364888e-05),\n",
       " (0.176, 1.971152903699889e-11),\n",
       " (0.825, 0.0004504511470653455),\n",
       " (0.466, 0.00033549518224613707),\n",
       " (0.29, 2.2638105692506018e-07),\n",
       " (0.164, 4.8873788197376525e-12),\n",
       " (0.492, 0.0006396985842163557),\n",
       " (0.745, 0.003003462948640946),\n",
       " (0.438, 0.00015058170002024533),\n",
       " (0.297, 3.4307790841805926e-07),\n",
       " (0.142, 2.73492887380343e-13),\n",
       " (0.851, 0.00015196429790823393),\n",
       " (0.138, 1.5351899491802513e-13),\n",
       " (0.945, 2.640776612943614e-08),\n",
       " (0.534, 0.0015010495607357933),\n",
       " (0.895, 9.804633409585366e-06),\n",
       " (0.484, 0.000529647549887544),\n",
       " (0.14, 2.053723828772405e-13),\n",
       " (0.84, 0.0002498655579602738),\n",
       " (0.418, 7.911763991219913e-05),\n",
       " (0.54, 0.0016643365784956919),\n",
       " (0.899, 7.0548961186053004e-06),\n",
       " (0.685, 0.00484006236961191),\n",
       " (0.522, 0.0012042044349008362),\n",
       " (0.59, 0.003293130745103135),\n",
       " (0.861, 9.151123749632047e-05),\n",
       " (0.455, 0.000248230158754201),\n",
       " (0.163, 4.328621660624697e-12),\n",
       " (0.209, 5.513176628868388e-10),\n",
       " (0.654, 0.004906703815861495),\n",
       " (0.879, 3.137882077410062e-05),\n",
       " (0.917, 1.25958272120314e-06),\n",
       " (0.469, 0.0003631487596587457),\n",
       " (0.744, 0.003044293314738193),\n",
       " (0.61, 0.003955572428404358),\n",
       " (0.704, 0.004457071656456846),\n",
       " (0.755, 0.0025935949828135457),\n",
       " (0.781, 0.0015901947015378008),\n",
       " (0.342, 3.69233805638195e-06),\n",
       " (0.067, 4.5770539779198864e-20),\n",
       " (0.67, 0.004960680900363318),\n",
       " (0.116, 4.4390799981983895e-15),\n",
       " (0.306, 5.742061651510753e-07),\n",
       " (0.638, 0.004678336985247223),\n",
       " (0.943, 3.733558376233229e-08),\n",
       " (0.865, 7.349674594519665e-05),\n",
       " (0.007, 2.381446927213016e-41),\n",
       " (0.037, 1.3758445928627828e-25),\n",
       " (0.994, 2.0912526509184407e-18),\n",
       " (0.569, 0.0025701716331358155),\n",
       " (0.592, 0.0033618755712719658),\n",
       " (0.352, 5.881741785641605e-06),\n",
       " (0.733, 0.003484605442881345),\n",
       " (0.251, 1.6996682460520985e-08),\n",
       " (0.974, 1.3528391800907536e-11),\n",
       " (0.572, 0.002671999583592784),\n",
       " (0.763, 0.002269937683292738),\n",
       " (0.143, 3.150824102026524e-13),\n",
       " (0.028, 3.3116764311727283e-28),\n",
       " (0.246, 1.1746255801787698e-08),\n",
       " (0.338, 3.0468255124171163e-06),\n",
       " (0.942, 4.416417114272284e-08),\n",
       " (0.033, 1.1620911284964655e-26),\n",
       " (0.308, 6.419853173488615e-07),\n",
       " (0.835, 0.0003073747160314406),\n",
       " (0.245, 1.0897142182486373e-08),\n",
       " (0.191, 9.736662372487367e-11),\n",
       " (0.378, 1.7978610411479537e-05),\n",
       " (0.212, 7.234684996215547e-10),\n",
       " (0.631, 0.004530834769882771),\n",
       " (0.903, 4.987258478954055e-06),\n",
       " (0.691, 0.0047457254462813445),\n",
       " (0.457, 0.0002625408098401966),\n",
       " (0.299, 3.8539549548563307e-07),\n",
       " (0.836, 0.00029516355044185435),\n",
       " (0.147, 5.491146124386294e-13),\n",
       " (0.961, 8.706979050656176e-10),\n",
       " (0.995, 2.8775317062912245e-19),\n",
       " (0.345, 4.255167742693143e-06),\n",
       " (0.782, 0.0015552932619673939),\n",
       " (0.591, 0.0033275398177550737),\n",
       " (0.53, 0.0013976159942275517),\n",
       " (0.882, 2.5659798804434396e-05),\n",
       " (0.367, 1.1385091289064007e-05),\n",
       " (0.144, 3.626006105888247e-13),\n",
       " (0.849, 0.00016709286252149762),\n",
       " (0.711, 0.004258432619936032),\n",
       " (0.402, 4.517815439384307e-05),\n",
       " (0.859, 0.00010174243725962959),\n",
       " (0.938, 8.375549744416735e-08),\n",
       " (0.079, 1.4889984102993432e-18),\n",
       " (0.811, 0.0007207438280544886),\n",
       " (0.821, 0.0005190092414461119),\n",
       " (0.896, 9.044514063341952e-06),\n",
       " (0.607, 0.003861104459481494),\n",
       " (0.207, 4.587699402209828e-10),\n",
       " (0.791, 0.0012581547967378643),\n",
       " (0.101, 2.539037562176894e-16),\n",
       " (0.371, 1.3477998539046552e-05),\n",
       " (0.235, 5.0351342003240735e-09),\n",
       " (0.848, 0.00017507757016354826),\n",
       " (0.459, 0.00027751808596281015),\n",
       " (0.8, 0.0009943790358689873),\n",
       " (0.964, 3.866024018370677e-10),\n",
       " (0.925, 5.000740413780302e-07),\n",
       " (0.325, 1.5922737527940725e-06),\n",
       " (0.417, 7.648734837902261e-05),\n",
       " (0.146, 4.786760497378161e-13),\n",
       " (0.767, 0.002111812867215715),\n",
       " (0.131, 5.338611761177766e-14),\n",
       " (0.786, 0.0014193510168575636),\n",
       " (0.712, 0.004227849496993874),\n",
       " (0.736, 0.003366645623529543),\n",
       " (0.38, 1.9489020102919657e-05),\n",
       " (0.006, 8.106250689005181e-43),\n",
       " (0.789, 0.0013214275968158802),\n",
       " (0.893, 1.1486717587086189e-05),\n",
       " (0.827, 0.00041866883900674925),\n",
       " (0.652, 0.0048872109259841656),\n",
       " (0.347, 4.6723539286456645e-06),\n",
       " (0.941, 5.2069827268933e-08),\n",
       " (0.951, 8.518645516426531e-09),\n",
       " (0.353, 6.155068625347027e-06),\n",
       " (0.448, 0.0002030899611474422),\n",
       " (0.801, 0.0009672561236335554),\n",
       " (0.215, 9.450496723441959e-10),\n",
       " (0.727, 0.0037135429384194136),\n",
       " (0.89, 1.4459123808708443e-05),\n",
       " (0.528, 0.0013475676425000345),\n",
       " (0.084, 5.410492473607466e-18),\n",
       " (0.063, 1.2384254869799154e-20),\n",
       " (0.524, 0.001250855340474981),\n",
       " (0.042, 2.112259549114668e-24),\n",
       " (0.501, 0.000783029753158315),\n",
       " (0.068, 6.266332118472881e-20),\n",
       " (0.69, 0.00476322308289701),\n",
       " (0.489, 0.0005965778102738796),\n",
       " (0.87, 5.508618883247751e-05),\n",
       " (0.705, 0.004430421470884289),\n",
       " (0.248, 1.3632500372195685e-08),\n",
       " (0.318, 1.104757743742926e-06),\n",
       " (0.41, 6.0097896223112654e-05),\n",
       " (0.428, 0.00010999210880002175),\n",
       " (0.757, 0.00251200588271399),\n",
       " (0.312, 8.000482554151338e-07),\n",
       " (0.662, 0.004956804202203433),\n",
       " (0.161, 3.3868279514974147e-12),\n",
       " (0.214, 8.64954601921176e-10),\n",
       " (0.674, 0.004944855648200569),\n",
       " (0.688, 0.0047961026419760236),\n",
       " (0.369, 1.2392111166535213e-05),\n",
       " (0.708, 0.004346956844434177),\n",
       " (0.854, 0.0001312794843881245),\n",
       " (0.483, 0.0005169816687980456),\n",
       " (0.606, 0.0038291154896851177),\n",
       " (0.497, 0.0007166889050562002),\n",
       " (0.971, 4.2018769330714345e-11),\n",
       " (0.493, 0.0006545790030175043),\n",
       " (0.837, 0.00028331268358711435),\n",
       " (0.121, 1.0553537709974023e-14),\n",
       " (0.628, 0.0044599171845945956),\n",
       " (0.651, 0.004876449584386565),\n",
       " (0.982, 2.8359108942931626e-13),\n",
       " (0.557, 0.002175191892258729),\n",
       " (0.984, 8.118097598292039e-14),\n",
       " (0.877, 3.574288249768035e-05),\n",
       " (0.265, 4.558398091511641e-08),\n",
       " (0.357, 7.366543371580834e-06),\n",
       " (0.619, 0.004222904931124951),\n",
       " (0.737, 0.00332690392814884),\n",
       " (0.113, 2.5889750688631424e-15),\n",
       " (0.867, 6.56191331089906e-05),\n",
       " (0.666, 0.004964625232178226),\n",
       " (0.773, 0.001881375953493072),\n",
       " (0.052, 2.066367507690179e-22),\n",
       " (0.048, 3.720111424420088e-23),\n",
       " (0.93, 2.636001189356998e-07),\n",
       " (0.155, 1.5884130692530404e-12),\n",
       " (0.531, 0.0014230593961240931),\n",
       " (0.972, 2.9217191472314324e-11),\n",
       " (0.772, 0.0019191380580108974),\n",
       " (0.856, 0.00011875517103380666),\n",
       " (0.574, 0.002740371968386167),\n",
       " (0.931, 2.3039617951258853e-07),\n",
       " (0.74, 0.0032066160004512122),\n",
       " (0.225, 2.2313948147890203e-09),\n",
       " (0.832, 0.00034622431995723905),\n",
       " (0.937, 9.755720223850883e-08),\n",
       " (0.697, 0.0046262843763777),\n",
       " (0.558, 0.0022071895586457608),\n",
       " (0.73, 0.003600365752412747),\n",
       " (0.957, 2.325187266754745e-09),\n",
       " (0.871, 5.1895358563326224e-05),\n",
       " (0.337, 2.902344262607451e-06),\n",
       " (0.019, 7.230704204591861e-32),\n",
       " (0.97, 5.964228165265962e-11),\n",
       " (0.672, 0.0049542575688499785),\n",
       " (0.054, 4.63134901203042e-22),\n",
       " (0.923, 6.369094504676356e-07),\n",
       " (0.476, 0.0004347498193390199),\n",
       " (0.258, 2.807493650943016e-08),\n",
       " (0.475, 0.000423890850629084),\n",
       " (0.582, 0.003016386964944058),\n",
       " (0.834, 0.00031995166607649145),\n",
       " (0.563, 0.0023698605249962007),\n",
       " (0.682, 0.004877495257614066),\n",
       " (0.833, 0.0003328997791988384),\n",
       " (0.536, 0.0015544095394495394),\n",
       " (0.221, 1.5914183044673456e-09),\n",
       " (0.9, 6.480037232241917e-06),\n",
       " (0.408, 5.601504064814621e-05),\n",
       " (0.797, 0.0010784047231290012),\n",
       " (0.384, 2.2851623676286676e-05),\n",
       " (0.151, 9.412819411506598e-13),\n",
       " (0.823, 0.00048388771706503263),\n",
       " (0.792, 0.00122713678006308),\n",
       " (0.244, 1.0105509705134208e-08),\n",
       " (0.202, 2.8708085183565845e-10),\n",
       " (0.76, 0.002390369190456959),\n",
       " (0.785, 0.001452773137729992),\n",
       " (0.777, 0.0017332379944898259),\n",
       " (0.762, 0.0023099266564393386),\n",
       " (0.027, 1.5048262139433375e-28),\n",
       " (0.818, 0.0005749105021024406),\n",
       " (0.33, 2.052918935590335e-06),\n",
       " (0.966, 2.1577799937359622e-10),\n",
       " (0.643, 0.004766878417590023),\n",
       " (0.921, 8.051043294291348e-07),\n",
       " (0.409, 5.802529530787126e-05),\n",
       " (0.913, 1.9200439863794614e-06),\n",
       " (0.88, 2.9366675705088195e-05),\n",
       " (0.376, 1.657316172940664e-05),\n",
       " (0.729, 0.0036383972616362407),\n",
       " (0.779, 0.0016610449029159583),\n",
       " (0.02, 2.209983497726984e-31),\n",
       " (0.934, 1.5165504475648244e-07),\n",
       " (0.684, 0.004853269857631523),\n",
       " (0.296, 3.2356324880473244e-07),\n",
       " (0.911, 2.3492901620682753e-06),\n",
       " (0.234, 4.650585385628136e-09),\n",
       " (0.461, 0.0002931831921974359),\n",
       " (0.091, 2.893048004883612e-17),\n",
       " (0.683, 0.004865748516651845),\n",
       " (0.478, 0.0004571213988344929),\n",
       " (0.664, 0.004962175166084239),\n",
       " (0.872, 4.885563115093776e-05),\n",
       " (0.605, 0.00379689500460253),\n",
       " (0.653, 0.004897297692070041),\n",
       " (0.148, 6.292678948182293e-13),\n",
       " (0.277, 1.007670357547715e-07),\n",
       " (0.425, 9.980333326097184e-05),\n",
       " (0.103, 3.8139773583368917e-16),\n",
       " (0.633, 0.004575627070157005),\n",
       " (0.731, 0.003562047173039336),\n",
       " (0.912, 2.125387540940194e-06),\n",
       " (0.239, 6.890128775224374e-09),\n",
       " (0.097, 1.0959372811517601e-16),\n",
       " (0.182, 3.802762211183804e-11),\n",
       " (0.739, 0.0032468746239555854),\n",
       " (0.677, 0.004925164610894207),\n",
       " (0.001, 6.508226576813842e-60),\n",
       " (0.985, 4.0817200437331406e-14),\n",
       " (0.226, 2.4253729091101156e-09),\n",
       " (0.751, 0.0027574886001194795),\n",
       " (0.506, 0.0008720675011176211),\n",
       " (0.581, 0.002981751584761681),\n",
       " (0.983, 1.5465281198500132e-13),\n",
       " (0.853, 0.00013791505007490785),\n",
       " (0.03, 1.4770628468378076e-27),\n",
       " (0.262, 3.7109976780990634e-08),\n",
       " (0.86, 9.651984445350027e-05),\n",
       " (0.388, 2.671812025371815e-05),\n",
       " (0.922, 7.167425480674071e-07),\n",
       " (0.981, 5.026319212230538e-13),\n",
       " (0.805, 0.0008632416508587565),\n",
       " (0.787, 0.001386315385939255),\n",
       " (0.364, 1.0011542744783711e-05),\n",
       " (0.728, 0.0036761276445804415),\n",
       " (0.955, 3.6614585321835808e-09),\n",
       " (0.967, 1.58956415950951e-10),\n",
       " (0.639, 0.004697214512194263),\n",
       " (0.237, 5.8948915987548105e-09),\n",
       " (0.55, 0.001956857107142604),\n",
       " (0.159, 2.6407967835475206e-12),\n",
       " (0.046, 1.4926112556420946e-23),\n",
       " (0.546, 0.0018369393371771305),\n",
       " (0.669, 0.004962777630031817),\n",
       " (0.009, 5.866616515765423e-39),\n",
       " (0.584, 0.0030856848405438632),\n",
       " (0.58, 0.002947137145561905),\n",
       " (0.706, 0.004403179103950824),\n",
       " (0.316, 9.930594077609766e-07),\n",
       " (0.102, 3.115198862774639e-16),\n",
       " (0.901, 5.945314533190415e-06),\n",
       " (0.804, 0.0008885710321400116),\n",
       " (0.829, 0.0003885072967815951),\n",
       " (0.004, 1.107681303676553e-46),\n",
       " (0.783, 0.0015207510715240064),\n",
       " (0.449, 0.00020908813216315112),\n",
       " (0.344, 4.05947866470251e-06),\n",
       " (0.487, 0.0005690762440688338),\n",
       " (0.72, 0.003965478136754958),\n",
       " (0.304, 5.130536346384335e-07),\n",
       " (0.445, 0.00018594536163870606),\n",
       " (0.82, 0.0005372106355296336),\n",
       " (0.168, 7.877766077140448e-12),\n",
       " (0.774, 0.0018438953078672065),\n",
       " (0.634, 0.00459724772194007),\n",
       " (0.624, 0.00435882628091331),\n",
       " (0.398, 3.9014970510371994e-05),\n",
       " (0.946, 2.208913210003644e-08),\n",
       " ...]"
      ]
     },
     "execution_count": 89,
     "metadata": {},
     "output_type": "execute_result"
    }
   ],
   "source": [
    "pmf1.Items()"
   ]
  },
  {
   "cell_type": "code",
   "execution_count": 83,
   "metadata": {
    "collapsed": false
   },
   "outputs": [
    {
     "data": {
      "text/plain": [
       "0.5982856085975918"
      ]
     },
     "execution_count": 83,
     "metadata": {},
     "output_type": "execute_result"
    }
   ],
   "source": [
    "pmf1 = rhode.MakePmf(1001)\n",
    "pmf2 = wei.MakePmf(1001)\n",
    "ProbGreater(pmf1, pmf2)"
   ]
  },
  {
   "cell_type": "code",
   "execution_count": 84,
   "metadata": {
    "collapsed": false
   },
   "outputs": [
    {
     "data": {
      "text/plain": [
       "0.5982856085975918"
      ]
     },
     "execution_count": 84,
     "metadata": {},
     "output_type": "execute_result"
    }
   ],
   "source": [
    "pmf1.ProbGreater(pmf2)"
   ]
  },
  {
   "cell_type": "code",
   "execution_count": 85,
   "metadata": {
    "collapsed": false
   },
   "outputs": [
    {
     "data": {
      "text/plain": [
       "0.39831486726635074"
      ]
     },
     "execution_count": 85,
     "metadata": {},
     "output_type": "execute_result"
    }
   ],
   "source": [
    "pmf1.ProbLess(pmf2)"
   ]
  },
  {
   "cell_type": "markdown",
   "metadata": {},
   "source": [
    "**Exercise:** Run this analysis again with a different prior and see how much effect it has on the results."
   ]
  },
  {
   "cell_type": "code",
   "execution_count": 114,
   "metadata": {
    "collapsed": true
   },
   "outputs": [],
   "source": [
    "rhode2 = Beta(3, 9, label='Rhode')\n",
    "rhode2.Update((22, 11))\n",
    "wei2 = Beta(3, 9, label='Wei')\n",
    "wei2.Update((21, 12))"
   ]
  },
  {
   "cell_type": "code",
   "execution_count": 115,
   "metadata": {
    "collapsed": false
   },
   "outputs": [
    {
     "data": {
      "image/png": "[encoded data removed]",
      "text/plain": [
       "<matplotlib.figure.Figure at 0x109d8c6d0>"
      ]
     },
     "metadata": {},
     "output_type": "display_data"
    }
   ],
   "source": [
    "thinkplot.Pdf(rhode2.MakePmf())\n",
    "thinkplot.Pdf(wei2.MakePmf())\n",
    "thinkplot.Config(xlabel='x', ylabel='Probability')"
   ]
  },
  {
   "cell_type": "code",
   "execution_count": 116,
   "metadata": {
    "collapsed": false
   },
   "outputs": [
    {
     "data": {
      "text/plain": [
       "0.56899999999999995"
      ]
     },
     "execution_count": 116,
     "metadata": {},
     "output_type": "execute_result"
    }
   ],
   "source": [
    "rhode_sample2 = rhode2.Sample(iters)\n",
    "wei_sample2 = wei2.Sample(iters)\n",
    "np.mean(rhode_sample2 > wei_sample2)"
   ]
  },
  {
   "cell_type": "markdown",
   "metadata": {},
   "source": [
    "##### There is a ~1% difference with a difference prior"
   ]
  },
  {
   "cell_type": "markdown",
   "metadata": {},
   "source": [
    "## Simulation\n",
    "\n",
    "To make predictions about a rematch, we have two options again:\n",
    "\n",
    "1. Sampling.  For each simulated match, we draw a random value of `x` for each contestant, then simulate 25 shots and count hits.\n",
    "\n",
    "2. Computing a mixture.  If we knew `x` exactly, the distribution of hits, `k`, would be binomial.  Since we don't know `x`, the distribution of `k` is a mixture of binomials with different values of `x`.\n",
    "\n",
    "I'll do it by sampling first."
   ]
  },
  {
   "cell_type": "code",
   "execution_count": 92,
   "metadata": {
    "collapsed": false
   },
   "outputs": [],
   "source": [
    "import random\n",
    "\n",
    "def flip(p):\n",
    "    return random.random() < p"
   ]
  },
  {
   "cell_type": "markdown",
   "metadata": {},
   "source": [
    "`flip` returns True with probability `p` and False with probability `1-p`\n",
    "\n",
    "Now we can simulate 1000 rematches and count wins and losses."
   ]
  },
  {
   "cell_type": "code",
   "execution_count": 93,
   "metadata": {
    "collapsed": false
   },
   "outputs": [
    {
     "data": {
      "text/plain": [
       "(0.532, 0.392)"
      ]
     },
     "execution_count": 93,
     "metadata": {},
     "output_type": "execute_result"
    }
   ],
   "source": [
    "iters = 1000\n",
    "wins = 0\n",
    "losses = 0\n",
    "\n",
    "for _ in range(iters):\n",
    "    x1 = rhode.Random()\n",
    "    x2 = wei.Random()\n",
    "    \n",
    "    count1 = count2 = 0\n",
    "    for _ in range(25):\n",
    "        if flip(x1):\n",
    "            count1 += 1\n",
    "        if flip(x2):\n",
    "            count2 += 1\n",
    "            \n",
    "    if count1 > count2:\n",
    "        wins += 1\n",
    "    if count1 < count2:\n",
    "        losses += 1\n",
    "        \n",
    "wins/iters, losses/iters"
   ]
  },
  {
   "cell_type": "markdown",
   "metadata": {},
   "source": [
    "Or, realizing that the distribution of `k` is binomial, we can simplify the code using NumPy:"
   ]
  },
  {
   "cell_type": "code",
   "execution_count": 95,
   "metadata": {
    "collapsed": false
   },
   "outputs": [
    {
     "data": {
      "text/plain": [
       "array([ 0.72281639,  0.64626941,  0.6889222 ,  0.68261563,  0.74566788,\n",
       "        0.7072515 ,  0.58713669,  0.65643645,  0.67947561,  0.58355359,\n",
       "        0.56791066,  0.61558354,  0.62961098,  0.86027651,  0.67559363,\n",
       "        0.59256824,  0.58321159,  0.7333852 ,  0.5749624 ,  0.69495691,\n",
       "        0.72597873,  0.70554282,  0.67432023,  0.58676421,  0.73694983,\n",
       "        0.72692017,  0.6658434 ,  0.56696404,  0.71698126,  0.63826997,\n",
       "        0.84334898,  0.70687742,  0.69399004,  0.63975414,  0.7234294 ,\n",
       "        0.59289741,  0.53059297,  0.59883887,  0.6282147 ,  0.72940492,\n",
       "        0.77960585,  0.6914953 ,  0.61772836,  0.65984467,  0.60642492,\n",
       "        0.6320533 ,  0.7529567 ,  0.69036414,  0.67450936,  0.68481677,\n",
       "        0.60219774,  0.72393482,  0.82901463,  0.66977014,  0.72156342,\n",
       "        0.57027535,  0.62862007,  0.68457307,  0.5952626 ,  0.53400073,\n",
       "        0.67767661,  0.73750976,  0.70913075,  0.83011017,  0.70728036,\n",
       "        0.64501829,  0.75824379,  0.59834689,  0.68849317,  0.62994166,\n",
       "        0.68800024,  0.75065546,  0.53767303,  0.65172166,  0.70454243,\n",
       "        0.75325342,  0.72696213,  0.62523647,  0.76377826,  0.75976674,\n",
       "        0.68594097,  0.73986539,  0.73506824,  0.66197463,  0.66825364,\n",
       "        0.65186201,  0.60726867,  0.68481374,  0.71880691,  0.71225753,\n",
       "        0.69926458,  0.61625348,  0.52036578,  0.68495356,  0.67561416,\n",
       "        0.76310266,  0.58438449,  0.66308226,  0.64472625,  0.67542108,\n",
       "        0.68921614,  0.73839841,  0.65299833,  0.68788125,  0.62076927,\n",
       "        0.77926964,  0.74150197,  0.77445955,  0.71508842,  0.59884491,\n",
       "        0.57458396,  0.77944891,  0.69859522,  0.59194958,  0.6699462 ,\n",
       "        0.65491265,  0.53040127,  0.66360953,  0.75216235,  0.66771745,\n",
       "        0.55049051,  0.71739408,  0.63886898,  0.70896249,  0.80374328,\n",
       "        0.76138734,  0.67836641,  0.69770004,  0.80056834,  0.7204182 ,\n",
       "        0.61453553,  0.55275938,  0.6719958 ,  0.66471173,  0.70396841,\n",
       "        0.77056083,  0.65325707,  0.71012969,  0.70059171,  0.5231295 ,\n",
       "        0.75395709,  0.51224485,  0.65601704,  0.57369699,  0.68000804,\n",
       "        0.6925694 ,  0.48292866,  0.68902343,  0.68859418,  0.63974592,\n",
       "        0.6660422 ,  0.60009443,  0.74055091,  0.74283342,  0.79276367,\n",
       "        0.65385198,  0.74707942,  0.48487298,  0.69857534,  0.70123965,\n",
       "        0.73328968,  0.64643751,  0.58026573,  0.63760362,  0.75275267,\n",
       "        0.65029058,  0.70500822,  0.71023638,  0.64042349,  0.62901098,\n",
       "        0.57174962,  0.74802336,  0.63954265,  0.79292273,  0.49795143,\n",
       "        0.54216253,  0.46523619,  0.77348593,  0.72252312,  0.60722662,\n",
       "        0.65946524,  0.62306607,  0.62400374,  0.50958473,  0.76745629,\n",
       "        0.70615936,  0.69593843,  0.67607848,  0.66942918,  0.71656835,\n",
       "        0.6340135 ,  0.7663293 ,  0.68187162,  0.58919984,  0.64648032,\n",
       "        0.64642285,  0.69579462,  0.73420879,  0.72579588,  0.71616208,\n",
       "        0.64606385,  0.60559504,  0.65236768,  0.56659298,  0.58886244,\n",
       "        0.59752801,  0.73591382,  0.64594997,  0.62856041,  0.73396712,\n",
       "        0.68839007,  0.72911548,  0.66754464,  0.76727015,  0.60934343,\n",
       "        0.59491831,  0.71062992,  0.66736122,  0.7561843 ,  0.64530934,\n",
       "        0.5715918 ,  0.74508906,  0.65329464,  0.49557626,  0.56614947,\n",
       "        0.6295057 ,  0.6474731 ,  0.66012893,  0.57075093,  0.65867209,\n",
       "        0.75844176,  0.65530261,  0.50536463,  0.79490766,  0.67955812,\n",
       "        0.61615248,  0.55694777,  0.67009521,  0.75827751,  0.74944721,\n",
       "        0.79229252,  0.73969588,  0.65147722,  0.81470893,  0.60870424,\n",
       "        0.70687696,  0.75730291,  0.74864368,  0.63722359,  0.61870015,\n",
       "        0.57758175,  0.76078347,  0.74379356,  0.64165088,  0.67975674,\n",
       "        0.66755016,  0.76712309,  0.48524723,  0.51698392,  0.66501115,\n",
       "        0.73095658,  0.69102619,  0.62592634,  0.59614501,  0.54297948,\n",
       "        0.4882323 ,  0.53208506,  0.70759103,  0.75621285,  0.53103168,\n",
       "        0.7185203 ,  0.64184998,  0.77879531,  0.6389535 ,  0.69247823,\n",
       "        0.67565692,  0.718208  ,  0.71918279,  0.71516642,  0.6313485 ,\n",
       "        0.70477486,  0.69129767,  0.5253165 ,  0.68189611,  0.60205612,\n",
       "        0.70637784,  0.70062327,  0.54875273,  0.67293483,  0.61656206,\n",
       "        0.68698364,  0.55664728,  0.67358023,  0.6736932 ,  0.66671293,\n",
       "        0.59333564,  0.60960354,  0.77476835,  0.71439348,  0.80802772,\n",
       "        0.5404416 ,  0.65996919,  0.64438505,  0.60534751,  0.64788373,\n",
       "        0.75853264,  0.71667542,  0.61232298,  0.68435655,  0.6977108 ,\n",
       "        0.51449816,  0.56462294,  0.61389509,  0.62742053,  0.72962607,\n",
       "        0.76170295,  0.70688565,  0.65529743,  0.61828222,  0.53881003,\n",
       "        0.56271492,  0.67142778,  0.72497613,  0.59690215,  0.78541372,\n",
       "        0.67704661,  0.56687804,  0.49959667,  0.49753184,  0.68031856,\n",
       "        0.66393117,  0.6002204 ,  0.77464202,  0.62040912,  0.75101796,\n",
       "        0.56386374,  0.67628679,  0.75594776,  0.60807922,  0.70975277,\n",
       "        0.63080302,  0.641184  ,  0.75033986,  0.70428693,  0.70483122,\n",
       "        0.65567723,  0.60136427,  0.54973831,  0.78237659,  0.6535593 ,\n",
       "        0.69323423,  0.56098773,  0.73983036,  0.68850154,  0.49887889,\n",
       "        0.58750591,  0.56183987,  0.78430835,  0.74746284,  0.64975874,\n",
       "        0.69535583,  0.45753151,  0.62570144,  0.65373964,  0.70436053,\n",
       "        0.66513022,  0.77691117,  0.57678058,  0.66783292,  0.5445454 ,\n",
       "        0.59722586,  0.59014672,  0.57967337,  0.70406857,  0.74315208,\n",
       "        0.65743025,  0.80651863,  0.73088813,  0.60912913,  0.58998138,\n",
       "        0.61869047,  0.80672352,  0.49457595,  0.70132173,  0.65999904,\n",
       "        0.83208149,  0.62223697,  0.7598959 ,  0.69282708,  0.6898705 ,\n",
       "        0.56669798,  0.77311152,  0.64215447,  0.6895127 ,  0.71634049,\n",
       "        0.59098371,  0.66382022,  0.57095665,  0.67438984,  0.64452401,\n",
       "        0.70799755,  0.58538753,  0.61494485,  0.64929728,  0.72188759,\n",
       "        0.80678471,  0.68255635,  0.7512524 ,  0.52420627,  0.6045527 ,\n",
       "        0.73122012,  0.7357505 ,  0.65371051,  0.65022811,  0.6360693 ,\n",
       "        0.72089728,  0.71258458,  0.5578734 ,  0.72807964,  0.65051756,\n",
       "        0.55203688,  0.75605331,  0.70591644,  0.66196029,  0.65414906,\n",
       "        0.57255422,  0.52065289,  0.59147886,  0.63264439,  0.74775117,\n",
       "        0.73841874,  0.5038161 ,  0.68868346,  0.80889261,  0.66610083,\n",
       "        0.55868361,  0.57939768,  0.68926874,  0.74870437,  0.76960547,\n",
       "        0.81687912,  0.57061138,  0.7536712 ,  0.73873321,  0.90016084,\n",
       "        0.80673538,  0.6986642 ,  0.7919617 ,  0.76871311,  0.70579884,\n",
       "        0.64020714,  0.69626402,  0.71807344,  0.70187169,  0.86906526,\n",
       "        0.68180906,  0.50301221,  0.70910295,  0.67242025,  0.73296835,\n",
       "        0.72752563,  0.66198256,  0.62235833,  0.71735029,  0.75745189,\n",
       "        0.67900141,  0.64472071,  0.53047577,  0.74307405,  0.62436008,\n",
       "        0.58599815,  0.7243396 ,  0.68171727,  0.66237988,  0.66356906,\n",
       "        0.71940248,  0.59325951,  0.47252878,  0.64517155,  0.61653737,\n",
       "        0.55540805,  0.67205047,  0.6949214 ,  0.52820304,  0.71203706,\n",
       "        0.66115677,  0.55698905,  0.71318831,  0.62316363,  0.63475574,\n",
       "        0.77227972,  0.7792059 ,  0.60906188,  0.5024276 ,  0.66646061,\n",
       "        0.62539372,  0.67210306,  0.62870374,  0.69185151,  0.66268719,\n",
       "        0.68623809,  0.69151294,  0.6622904 ,  0.6642191 ,  0.56795422,\n",
       "        0.66655598,  0.71398747,  0.66371736,  0.63252434,  0.66241066,\n",
       "        0.56359765,  0.60121289,  0.62476838,  0.80888028,  0.71895588,\n",
       "        0.73286624,  0.77989656,  0.57412825,  0.55620964,  0.68377174,\n",
       "        0.54146623,  0.61812611,  0.5974671 ,  0.57691002,  0.68283346,\n",
       "        0.5080265 ,  0.64751168,  0.63347873,  0.64046291,  0.63677708,\n",
       "        0.5767435 ,  0.69826332,  0.6201411 ,  0.64134559,  0.69265006,\n",
       "        0.70860102,  0.63520032,  0.67450239,  0.59376298,  0.56071874,\n",
       "        0.71750153,  0.52512163,  0.67164029,  0.62746282,  0.68272452,\n",
       "        0.70963212,  0.47656302,  0.64684294,  0.6216211 ,  0.74053143,\n",
       "        0.5155664 ,  0.72016338,  0.75616827,  0.62460549,  0.76416584,\n",
       "        0.81165932,  0.55137001,  0.6532599 ,  0.80431484,  0.6428343 ,\n",
       "        0.58167276,  0.72700701,  0.71311534,  0.71708905,  0.63877351,\n",
       "        0.72463184,  0.62326879,  0.48869687,  0.50342439,  0.76158802,\n",
       "        0.68465236,  0.60291391,  0.64412062,  0.58463054,  0.68099436,\n",
       "        0.60246028,  0.66949151,  0.64413896,  0.53774672,  0.54374106,\n",
       "        0.59223139,  0.50392353,  0.68584088,  0.74623717,  0.76283961,\n",
       "        0.68781839,  0.6250987 ,  0.61950021,  0.64269561,  0.76981584,\n",
       "        0.59143244,  0.68067946,  0.59896523,  0.73979918,  0.51718603,\n",
       "        0.69736605,  0.70192316,  0.7030789 ,  0.76365045,  0.59899414,\n",
       "        0.65017766,  0.44103629,  0.72438962,  0.53637654,  0.68318082,\n",
       "        0.7059857 ,  0.62693958,  0.67443776,  0.749186  ,  0.64660092,\n",
       "        0.69747084,  0.63399479,  0.63813608,  0.55258942,  0.76191789,\n",
       "        0.77545456,  0.64882802,  0.56260294,  0.60925126,  0.59101836,\n",
       "        0.70743179,  0.56240989,  0.47164486,  0.5910679 ,  0.56572041,\n",
       "        0.51669249,  0.74480739,  0.58766874,  0.80290724,  0.68706012,\n",
       "        0.61100414,  0.48427745,  0.63365721,  0.76381812,  0.77164161,\n",
       "        0.63304297,  0.62812236,  0.6749572 ,  0.53288327,  0.63457796,\n",
       "        0.71099939,  0.73316969,  0.57532485,  0.63614494,  0.7569341 ,\n",
       "        0.75326872,  0.67364686,  0.52924134,  0.67769869,  0.61117001,\n",
       "        0.70113333,  0.57983216,  0.59729731,  0.60845339,  0.72730911,\n",
       "        0.4343734 ,  0.62413661,  0.60543091,  0.56587987,  0.72864511,\n",
       "        0.67797378,  0.71191575,  0.58621902,  0.46853042,  0.57387609,\n",
       "        0.60059133,  0.85838073,  0.75871847,  0.54200811,  0.55284781,\n",
       "        0.48362801,  0.69137052,  0.59357927,  0.68822025,  0.61738055,\n",
       "        0.64571069,  0.65124724,  0.46236164,  0.74918937,  0.60818175,\n",
       "        0.64564657,  0.76382721,  0.63667371,  0.57540137,  0.57050515,\n",
       "        0.65422948,  0.73242552,  0.64127116,  0.60819847,  0.6075228 ,\n",
       "        0.80009049,  0.66994507,  0.60386384,  0.69312136,  0.63927915,\n",
       "        0.7237505 ,  0.42807821,  0.5369024 ,  0.76489694,  0.7752577 ,\n",
       "        0.57620211,  0.6033615 ,  0.63402062,  0.67833542,  0.71592382,\n",
       "        0.71841592,  0.7290397 ,  0.73028222,  0.65269444,  0.63257581,\n",
       "        0.72061828,  0.76494075,  0.68543888,  0.7415249 ,  0.59677994,\n",
       "        0.72042955,  0.65862701,  0.66849586,  0.61672594,  0.63967521,\n",
       "        0.73234513,  0.77224853,  0.72937196,  0.72970717,  0.57904888,\n",
       "        0.70774215,  0.40825674,  0.70634681,  0.72208041,  0.71986296,\n",
       "        0.67580895,  0.500197  ,  0.59563312,  0.74361513,  0.50097238,\n",
       "        0.58659648,  0.65908866,  0.71550311,  0.5913385 ,  0.7610183 ,\n",
       "        0.71411918,  0.57186686,  0.58352422,  0.71611641,  0.63705119,\n",
       "        0.64290596,  0.65006264,  0.60706939,  0.76223516,  0.67033088,\n",
       "        0.54057475,  0.43129747,  0.73369133,  0.74501611,  0.74032557,\n",
       "        0.61704845,  0.63996091,  0.80775597,  0.61815314,  0.64691397,\n",
       "        0.64991248,  0.72379126,  0.56379329,  0.54822918,  0.75158074,\n",
       "        0.77607914,  0.74518612,  0.67893291,  0.63400107,  0.58996166,\n",
       "        0.61143495,  0.69466585,  0.61854133,  0.72152298,  0.73727369,\n",
       "        0.61658494,  0.50149029,  0.70188022,  0.52641812,  0.52653647,\n",
       "        0.59518038,  0.58156924,  0.85962802,  0.55252526,  0.60893626,\n",
       "        0.72807338,  0.64177999,  0.77316031,  0.63503013,  0.54062264,\n",
       "        0.62428345,  0.66998147,  0.63501275,  0.7008481 ,  0.74118361,\n",
       "        0.60084267,  0.68302041,  0.69953101,  0.70300293,  0.46422037,\n",
       "        0.69216976,  0.65760386,  0.64460068,  0.71640642,  0.66957437,\n",
       "        0.61097863,  0.68244674,  0.65929629,  0.52888087,  0.66777934,\n",
       "        0.6403179 ,  0.64234855,  0.70766998,  0.62844223,  0.63193729,\n",
       "        0.63039891,  0.51107146,  0.63325598,  0.68909231,  0.53381765,\n",
       "        0.5961792 ,  0.62514133,  0.71002221,  0.69272643,  0.52570978,\n",
       "        0.6943434 ,  0.69118176,  0.60907139,  0.73898445,  0.66942504,\n",
       "        0.65993109,  0.64716703,  0.73242561,  0.68492088,  0.74472397,\n",
       "        0.65866735,  0.57999667,  0.76035183,  0.64066796,  0.57453317,\n",
       "        0.69565461,  0.67482971,  0.63332021,  0.75310788,  0.50824127,\n",
       "        0.6945772 ,  0.59854968,  0.81095774,  0.59343374,  0.64171411,\n",
       "        0.66787055,  0.6013961 ,  0.72669276,  0.7092919 ,  0.63531784,\n",
       "        0.73924891,  0.79821566,  0.72660256,  0.79699876,  0.45348646,\n",
       "        0.51994912,  0.6319969 ,  0.59831487,  0.69251417,  0.74294651,\n",
       "        0.64220235,  0.73322261,  0.68004603,  0.82500027,  0.6673009 ,\n",
       "        0.64952433,  0.66854224,  0.6103635 ,  0.69523771,  0.70324242,\n",
       "        0.66447711,  0.75821869,  0.76427846,  0.71421849,  0.60406242,\n",
       "        0.70827866,  0.78436534,  0.75121887,  0.60644225,  0.67677713,\n",
       "        0.62682283,  0.6820584 ,  0.51795229,  0.65592627,  0.6077135 ,\n",
       "        0.5670001 ,  0.71903474,  0.56678861,  0.69950568,  0.61113124,\n",
       "        0.68084258,  0.68760532,  0.51822265,  0.7580159 ,  0.65028234,\n",
       "        0.66749325,  0.73884178,  0.64311844,  0.5636138 ,  0.61657024,\n",
       "        0.63417868,  0.62891636,  0.5865785 ,  0.62786918,  0.65514767,\n",
       "        0.53636891,  0.77502751,  0.70408913,  0.50768959,  0.70652902,\n",
       "        0.68866568,  0.67961933,  0.74677258,  0.62578328,  0.56205074,\n",
       "        0.64586798,  0.71647059,  0.76601533,  0.61037835,  0.61440704,\n",
       "        0.55729039,  0.67758951,  0.79412778,  0.59829515,  0.74703776,\n",
       "        0.70703786,  0.68792079,  0.75619389,  0.56275629,  0.71061012,\n",
       "        0.67394162,  0.62213385,  0.47791237,  0.59081741,  0.61123255,\n",
       "        0.76299759,  0.66796213,  0.74225381,  0.807074  ,  0.54316814,\n",
       "        0.71918097,  0.61661995,  0.5253972 ,  0.60567468,  0.65506991,\n",
       "        0.64398745,  0.63696325,  0.53129089,  0.78850092,  0.61328909,\n",
       "        0.69480173,  0.6228845 ,  0.64083409,  0.68251914,  0.61035873,\n",
       "        0.75655576,  0.4960847 ,  0.72364943,  0.72646907,  0.64779894,\n",
       "        0.72562036,  0.58057419,  0.64766875,  0.69360796,  0.57257824,\n",
       "        0.60496267,  0.67616589,  0.47556007,  0.64765568,  0.5963651 ,\n",
       "        0.48853238,  0.46808871,  0.68947272,  0.79109504,  0.70523164,\n",
       "        0.66676525,  0.66815015,  0.60937336,  0.71273295,  0.71207946,\n",
       "        0.61754018,  0.73196163,  0.52628587,  0.5137774 ,  0.60539068,\n",
       "        0.67106863,  0.68782802,  0.70605969,  0.64418664,  0.55552542,\n",
       "        0.64655178,  0.65689497,  0.68026563,  0.79988845,  0.65667964])"
      ]
     },
     "execution_count": 95,
     "metadata": {},
     "output_type": "execute_result"
    }
   ],
   "source": [
    "rhode_sample"
   ]
  },
  {
   "cell_type": "code",
   "execution_count": 94,
   "metadata": {
    "collapsed": false
   },
   "outputs": [
    {
     "data": {
      "image/png": "[encoded data removed]",
      "text/plain": [
       "<matplotlib.figure.Figure at 0x109d8c850>"
      ]
     },
     "metadata": {},
     "output_type": "display_data"
    }
   ],
   "source": [
    "rhode_rematch = np.random.binomial(25, rhode_sample)\n",
    "thinkplot.Hist(Pmf(rhode_rematch))"
   ]
  },
  {
   "cell_type": "code",
   "execution_count": 123,
   "metadata": {
    "collapsed": false
   },
   "outputs": [
    {
     "data": {
      "text/plain": [
       "0.52400000000000002"
      ]
     },
     "execution_count": 123,
     "metadata": {},
     "output_type": "execute_result"
    }
   ],
   "source": [
    "wei_rematch = np.random.binomial(25, wei_sample)\n",
    "np.mean(rhode_rematch > wei_rematch)"
   ]
  },
  {
   "cell_type": "code",
   "execution_count": 124,
   "metadata": {
    "collapsed": false
   },
   "outputs": [
    {
     "data": {
      "image/png": "[encoded data removed]",
      "text/plain": [
       "<matplotlib.figure.Figure at 0x109d719d0>"
      ]
     },
     "metadata": {},
     "output_type": "display_data"
    }
   ],
   "source": [
    "thinkplot.Hist(Pmf(wei_rematch))"
   ]
  },
  {
   "cell_type": "code",
   "execution_count": 125,
   "metadata": {
    "collapsed": false
   },
   "outputs": [
    {
     "data": {
      "text/plain": [
       "0.38600000000000001"
      ]
     },
     "execution_count": 125,
     "metadata": {},
     "output_type": "execute_result"
    }
   ],
   "source": [
    "np.mean(rhode_rematch < wei_rematch)"
   ]
  },
  {
   "cell_type": "markdown",
   "metadata": {},
   "source": [
    "Alternatively, we can make a mixture that represents the distribution of `k`, taking into account our uncertainty about `x`:"
   ]
  },
  {
   "cell_type": "code",
   "execution_count": 126,
   "metadata": {
    "collapsed": false
   },
   "outputs": [],
   "source": [
    "from thinkbayes2 import MakeBinomialPmf\n",
    "\n",
    "def MakeBinomialMix(pmf, label=''):\n",
    "    mix = Pmf(label=label)\n",
    "    for x, prob in pmf.Items():\n",
    "        binom = MakeBinomialPmf(n=25, p=x)\n",
    "        for k, p in binom.Items():\n",
    "            mix[k] += prob * p\n",
    "    return mix"
   ]
  },
  {
   "cell_type": "code",
   "execution_count": 29,
   "metadata": {
    "collapsed": false
   },
   "outputs": [
    {
     "data": {
      "image/png": "[encoded data removed]",
      "text/plain": [
       "<matplotlib.figure.Figure at 0x7fbd6640e610>"
      ]
     },
     "metadata": {},
     "output_type": "display_data"
    }
   ],
   "source": [
    "rhode_rematch = MakeBinomialMix(rhode.MakePmf(), label='Rhode')\n",
    "wei_rematch = MakeBinomialMix(wei.MakePmf(), label='Wei')\n",
    "thinkplot.Pdf(rhode_rematch)\n",
    "thinkplot.Pdf(wei_rematch)\n",
    "thinkplot.Config(xlabel='hits')"
   ]
  },
  {
   "cell_type": "code",
   "execution_count": 30,
   "metadata": {
    "collapsed": false
   },
   "outputs": [
    {
     "data": {
      "text/plain": [
       "(0.52023290455545113, 0.39052602488401061)"
      ]
     },
     "execution_count": 30,
     "metadata": {},
     "output_type": "execute_result"
    }
   ],
   "source": [
    "rhode_rematch.ProbGreater(wei_rematch), rhode_rematch.ProbLess(wei_rematch)"
   ]
  },
  {
   "cell_type": "markdown",
   "metadata": {},
   "source": [
    "Alternatively, we could use MakeMixture:"
   ]
  },
  {
   "cell_type": "code",
   "execution_count": 31,
   "metadata": {
    "collapsed": false
   },
   "outputs": [],
   "source": [
    "from thinkbayes2 import MakeMixture\n",
    "\n",
    "def MakeBinomialMix2(pmf):\n",
    "    binomials = Pmf()\n",
    "    for x, prob in pmf.Items():\n",
    "        binom = MakeBinomialPmf(n=25, p=x)\n",
    "        binomials[binom] = prob\n",
    "    return MakeMixture(binomials)"
   ]
  },
  {
   "cell_type": "markdown",
   "metadata": {},
   "source": [
    "Here's how we use it."
   ]
  },
  {
   "cell_type": "code",
   "execution_count": 32,
   "metadata": {
    "collapsed": false
   },
   "outputs": [
    {
     "data": {
      "text/plain": [
       "(0.52023290455545113, 0.39052602488401061)"
      ]
     },
     "execution_count": 32,
     "metadata": {},
     "output_type": "execute_result"
    }
   ],
   "source": [
    "rhode_rematch = MakeBinomialMix2(rhode.MakePmf())\n",
    "wei_rematch = MakeBinomialMix2(wei.MakePmf())\n",
    "rhode_rematch.ProbGreater(wei_rematch), rhode_rematch.ProbLess(wei_rematch)"
   ]
  },
  {
   "cell_type": "markdown",
   "metadata": {},
   "source": [
    "**Exercise:** Run this analysis again with a different prior and see how much effect it has on the results."
   ]
  },
  {
   "cell_type": "markdown",
   "metadata": {},
   "source": [
    "## Distributions of sums and differences\n",
    "\n",
    "Suppose we want to know the total number of targets the two contestants will hit in a rematch.  There are two ways we might compute the distribution of this sum:\n",
    "\n",
    "1. Sampling: We can draw samples from the distributions and add them up.\n",
    "\n",
    "2. Enumeration: We can enumerate all possible pairs of values.\n",
    "\n",
    "I'll start with sampling:"
   ]
  },
  {
   "cell_type": "code",
   "execution_count": 33,
   "metadata": {
    "collapsed": false,
    "scrolled": true
   },
   "outputs": [
    {
     "data": {
      "image/png": "[encoded data removed]",
      "text/plain": [
       "<matplotlib.figure.Figure at 0x7fbd66127790>"
      ]
     },
     "metadata": {},
     "output_type": "display_data"
    }
   ],
   "source": [
    "iters = 1000\n",
    "pmf = Pmf()\n",
    "for _ in range(iters):\n",
    "    k = rhode_rematch.Random() + wei_rematch.Random()\n",
    "    pmf[k] += 1\n",
    "pmf.Normalize()\n",
    "thinkplot.Hist(pmf)"
   ]
  },
  {
   "cell_type": "markdown",
   "metadata": {
    "collapsed": true
   },
   "source": [
    "Or we could use `Sample` and NumPy:"
   ]
  },
  {
   "cell_type": "code",
   "execution_count": 34,
   "metadata": {
    "collapsed": false
   },
   "outputs": [
    {
     "data": {
      "image/png": "[encoded data removed]",
      "text/plain": [
       "<matplotlib.figure.Figure at 0x7fbd65fd73d0>"
      ]
     },
     "metadata": {},
     "output_type": "display_data"
    }
   ],
   "source": [
    "ks = rhode_rematch.Sample(iters) + wei_rematch.Sample(iters)\n",
    "pmf = Pmf(ks)\n",
    "thinkplot.Hist(pmf)"
   ]
  },
  {
   "cell_type": "markdown",
   "metadata": {
    "collapsed": true
   },
   "source": [
    "Alternatively, we could compute the distribution of the sum by enumeration:"
   ]
  },
  {
   "cell_type": "code",
   "execution_count": 35,
   "metadata": {
    "collapsed": true
   },
   "outputs": [],
   "source": [
    "def AddPmfs(pmf1, pmf2):\n",
    "    pmf = Pmf()\n",
    "    for v1, p1 in pmf1.Items():\n",
    "        for v2, p2 in pmf2.Items():\n",
    "            pmf[v1 + v2] += p1 * p2\n",
    "    return pmf"
   ]
  },
  {
   "cell_type": "markdown",
   "metadata": {
    "collapsed": true
   },
   "source": [
    "Here's how it's used:"
   ]
  },
  {
   "cell_type": "code",
   "execution_count": 36,
   "metadata": {
    "collapsed": false
   },
   "outputs": [
    {
     "data": {
      "image/png": "[encoded data removed]",
      "text/plain": [
       "<matplotlib.figure.Figure at 0x7fbd65d99bd0>"
      ]
     },
     "metadata": {},
     "output_type": "display_data"
    }
   ],
   "source": [
    "pmf = AddPmfs(rhode_rematch, wei_rematch)\n",
    "thinkplot.Pdf(pmf)"
   ]
  },
  {
   "cell_type": "markdown",
   "metadata": {
    "collapsed": true
   },
   "source": [
    "The `Pmf` class provides a `+` operator that does the same thing."
   ]
  },
  {
   "cell_type": "code",
   "execution_count": 37,
   "metadata": {
    "collapsed": false
   },
   "outputs": [
    {
     "data": {
      "image/png": "[encoded data removed]",
      "text/plain": [
       "<matplotlib.figure.Figure at 0x7fbd65d71d10>"
      ]
     },
     "metadata": {},
     "output_type": "display_data"
    }
   ],
   "source": [
    "pmf = rhode_rematch + wei_rematch\n",
    "thinkplot.Pdf(pmf)"
   ]
  },
  {
   "cell_type": "markdown",
   "metadata": {
    "collapsed": true
   },
   "source": [
    "**Exercise:**  The Pmf class also provides the `-` operator, which computes the distribution of the difference in values from two distributions.  Use the distributions from the previous section to compute the distribution of the differential between Rhode and Wei in a rematch.  On average, how many clays should we expect Rhode to win by?  What is the probability that Rhode wins by 10 or more?"
   ]
  },
  {
   "cell_type": "code",
   "execution_count": 38,
   "metadata": {
    "collapsed": false
   },
   "outputs": [],
   "source": [
    "# Solution goes here"
   ]
  },
  {
   "cell_type": "code",
   "execution_count": 39,
   "metadata": {
    "collapsed": false
   },
   "outputs": [],
   "source": [
    "# Solution goes here"
   ]
  },
  {
   "cell_type": "code",
   "execution_count": 40,
   "metadata": {
    "collapsed": false
   },
   "outputs": [],
   "source": [
    "# Solution goes here"
   ]
  },
  {
   "cell_type": "markdown",
   "metadata": {
    "collapsed": true
   },
   "source": [
    "## Distribution of maximum\n",
    "\n",
    "Suppose Kim Rhode continues to compete in six more Olympics.  What should we expect her best result to be?\n",
    "\n",
    "Once again, there are two ways we can compute the distribution of the maximum:\n",
    "\n",
    "1. Sampling.\n",
    "\n",
    "2. Analysis of the CDF.\n",
    "\n",
    "Here's a simple version by sampling:"
   ]
  },
  {
   "cell_type": "code",
   "execution_count": 41,
   "metadata": {
    "collapsed": false
   },
   "outputs": [
    {
     "data": {
      "image/png": "[encoded data removed]",
      "text/plain": [
       "<matplotlib.figure.Figure at 0x7fbd65b96250>"
      ]
     },
     "metadata": {},
     "output_type": "display_data"
    }
   ],
   "source": [
    "iters = 1000\n",
    "pmf = Pmf()\n",
    "for _ in range(iters):\n",
    "    ks = rhode_rematch.Sample(6)\n",
    "    pmf[max(ks)] += 1\n",
    "pmf.Normalize()\n",
    "thinkplot.Hist(pmf)"
   ]
  },
  {
   "cell_type": "markdown",
   "metadata": {
    "collapsed": true
   },
   "source": [
    "And here's a version using NumPy.  I'll generate an array with 6 rows and 10 columns:"
   ]
  },
  {
   "cell_type": "code",
   "execution_count": 42,
   "metadata": {
    "collapsed": false
   },
   "outputs": [
    {
     "data": {
      "text/plain": [
       "array([[18, 17, 17, ..., 15, 12, 19],\n",
       "       [18, 17, 17, ..., 16, 21, 14],\n",
       "       [19, 15, 14, ..., 11, 18, 17],\n",
       "       [18, 16, 14, ..., 11, 19, 19],\n",
       "       [20, 20, 13, ..., 20, 16, 14],\n",
       "       [16, 17, 16, ..., 13, 20, 23]])"
      ]
     },
     "execution_count": 42,
     "metadata": {},
     "output_type": "execute_result"
    }
   ],
   "source": [
    "iters = 1000\n",
    "ks = rhode_rematch.Sample((6, iters))\n",
    "ks"
   ]
  },
  {
   "cell_type": "markdown",
   "metadata": {
    "collapsed": true
   },
   "source": [
    "Compute the maximum in each column:"
   ]
  },
  {
   "cell_type": "code",
   "execution_count": 43,
   "metadata": {
    "collapsed": false,
    "scrolled": true
   },
   "outputs": [
    {
     "data": {
      "text/plain": [
       "array([20, 20, 17, 20, 22, 21, 21, 23, 19, 22])"
      ]
     },
     "execution_count": 43,
     "metadata": {},
     "output_type": "execute_result"
    }
   ],
   "source": [
    "maxes = np.max(ks, axis=0)\n",
    "maxes[:10]"
   ]
  },
  {
   "cell_type": "markdown",
   "metadata": {},
   "source": [
    "And then plot the distribution of maximums:"
   ]
  },
  {
   "cell_type": "code",
   "execution_count": 44,
   "metadata": {
    "collapsed": false
   },
   "outputs": [
    {
     "data": {
      "image/png": "[encoded data removed]",
      "text/plain": [
       "<matplotlib.figure.Figure at 0x7fbd65c1a210>"
      ]
     },
     "metadata": {},
     "output_type": "display_data"
    }
   ],
   "source": [
    "pmf = Pmf(maxes)\n",
    "thinkplot.Hist(pmf)"
   ]
  },
  {
   "cell_type": "markdown",
   "metadata": {},
   "source": [
    "Or we can figure it out analytically.  If the maximum is less-than-or-equal-to some value `k`, all 6 random selections must be less-than-or-equal-to `k`, so: \n",
    "\n",
    "$ CDF_{max}(x) = CDF(x)^6 $\n",
    "\n",
    "`Pmf` provides a method that computes and returns this `Cdf`, so we can compute the distribution of the maximum like this:"
   ]
  },
  {
   "cell_type": "code",
   "execution_count": 45,
   "metadata": {
    "collapsed": false
   },
   "outputs": [
    {
     "data": {
      "image/png": "[encoded data removed]",
      "text/plain": [
       "<matplotlib.figure.Figure at 0x7fbd65b96110>"
      ]
     },
     "metadata": {},
     "output_type": "display_data"
    }
   ],
   "source": [
    "pmf = rhode_rematch.Max(6).MakePmf()\n",
    "thinkplot.Hist(pmf)"
   ]
  },
  {
   "cell_type": "markdown",
   "metadata": {
    "collapsed": true
   },
   "source": [
    "**Exercise:**  Here's how Pmf.Max works:\n",
    "\n",
    "    def Max(self, k):\n",
    "        \"\"\"Computes the CDF of the maximum of k selections from this dist.\n",
    "\n",
    "        k: int\n",
    "\n",
    "        returns: new Cdf\n",
    "        \"\"\"\n",
    "        cdf = self.MakeCdf()\n",
    "        cdf.ps **= k\n",
    "        return cdf\n",
    "\n",
    "Write a function that takes a Pmf and an integer `n` and returns a Pmf that represents the distribution of the minimum of `k` values drawn from the given Pmf.  Use your function to compute the distribution of the minimum score Kim Rhode would be expected to shoot in six competitions."
   ]
  },
  {
   "cell_type": "code",
   "execution_count": 46,
   "metadata": {
    "collapsed": true
   },
   "outputs": [],
   "source": [
    "def Min(pmf, k):\n",
    "    cdf = pmf.MakeCdf()\n",
    "    cdf.ps = 1 - (1-cdf.ps)**k\n",
    "    return cdf"
   ]
  },
  {
   "cell_type": "code",
   "execution_count": 47,
   "metadata": {
    "collapsed": false,
    "scrolled": true
   },
   "outputs": [
    {
     "data": {
      "image/png": "[encoded data removed]",
      "text/plain": [
       "<matplotlib.figure.Figure at 0x7fbd940f0310>"
      ]
     },
     "metadata": {},
     "output_type": "display_data"
    }
   ],
   "source": [
    "pmf = Min(rhode_rematch, 6).MakePmf()\n",
    "thinkplot.Hist(pmf)"
   ]
  },
  {
   "cell_type": "markdown",
   "metadata": {},
   "source": [
    "## Exercises"
   ]
  },
  {
   "cell_type": "markdown",
   "metadata": {
    "collapsed": true
   },
   "source": [
    "**Exercise:**  Suppose you are having a dinner party with 10 guests and 4 of them are allergic to cats.  Because you have cats, you expect 50% of the allergic guests to sneeze during dinner.  At the same time, you expect 10% of the non-allergic guests to sneeze.  What is the distribution of the total number of guests who sneeze?"
   ]
  },
  {
   "cell_type": "code",
   "execution_count": 48,
   "metadata": {
    "collapsed": false
   },
   "outputs": [],
   "source": [
    "# Solution goes here"
   ]
  },
  {
   "cell_type": "code",
   "execution_count": 49,
   "metadata": {
    "collapsed": false
   },
   "outputs": [],
   "source": [
    "# Solution goes here"
   ]
  },
  {
   "cell_type": "markdown",
   "metadata": {},
   "source": [
    "**Exercise** [This study from 2015](http://onlinelibrary.wiley.com/doi/10.1111/apt.13372/full) showed that many subjects diagnosed with non-celiac gluten sensitivity (NCGS) were not able to distinguish gluten flour from non-gluten flour in a blind challenge.\n",
    "\n",
    "Here is a description of the study:\n",
    "\n",
    ">\"We studied 35 non-CD subjects (31 females) that were on a gluten-free diet (GFD), in a double-blind challenge study. Participants were randomised to receive either gluten-containing ﬂour or gluten-free ﬂour for 10 days, followed by a 2-week washout period and were then crossed over. The main outcome measure was their ability to identify which ﬂour contained gluten.\n",
    ">\"The gluten-containing ﬂour was correctly identiﬁed by 12 participants (34%)...\"\n",
    "Since 12 out of 35 participants were able to identify the gluten flour, the authors conclude \"Double-blind gluten challenge induces symptom recurrence in just one-third of patients fulﬁlling the clinical diagnostic criteria for non-coeliac gluten sensitivity.\"\n",
    "\n",
    "This conclusion seems odd to me, because if none of the patients were sensitive to gluten, we would expect some of them to identify the gluten flour by chance.  So the results are consistent with the hypothesis that none of the subjects are actually gluten sensitive.\n",
    "\n",
    "We can use a Bayesian approach to interpret the results more precisely.  But first we have to make some modeling decisions.\n",
    "\n",
    "1. Of the 35 subjects, 12 identified the gluten flour based on resumption of symptoms while they were eating it.  Another 17 subjects wrongly identified the gluten-free flour based on their symptoms, and 6 subjects were unable to distinguish.  So each subject gave one of three responses.  To keep things simple I follow the authors of the study and lump together the second two groups; that is, I consider two groups: those who identified the gluten flour and those who did not.\n",
    "\n",
    "2. I assume (1) people who are actually gluten sensitive have a 95% chance of correctly identifying gluten flour under the challenge conditions, and (2) subjects who are not gluten sensitive have only a 40% chance of identifying the gluten flour by chance (and a 60% chance of either choosing the other flour or failing to distinguish).\n",
    "\n",
    "Using this model, estimate the number of study participants who are sensitive to gluten.  What is the most likely number?  What is the 95% credible interval?"
   ]
  },
  {
   "cell_type": "code",
   "execution_count": 50,
   "metadata": {
    "collapsed": false
   },
   "outputs": [],
   "source": [
    "# Solution goes here"
   ]
  },
  {
   "cell_type": "code",
   "execution_count": 51,
   "metadata": {
    "collapsed": false
   },
   "outputs": [],
   "source": [
    "# Solution goes here"
   ]
  },
  {
   "cell_type": "code",
   "execution_count": 52,
   "metadata": {
    "collapsed": false
   },
   "outputs": [],
   "source": [
    "# Solution goes here"
   ]
  },
  {
   "cell_type": "code",
   "execution_count": 53,
   "metadata": {
    "collapsed": false
   },
   "outputs": [],
   "source": [
    "# Solution goes here"
   ]
  },
  {
   "cell_type": "code",
   "execution_count": 54,
   "metadata": {
    "collapsed": false
   },
   "outputs": [],
   "source": [
    "# Solution goes here"
   ]
  },
  {
   "cell_type": "markdown",
   "metadata": {},
   "source": [
    "**Exercise** Coming soon: the space invaders problem."
   ]
  },
  {
   "cell_type": "code",
   "execution_count": 55,
   "metadata": {
    "collapsed": false
   },
   "outputs": [],
   "source": [
    "# Solution goes here"
   ]
  },
  {
   "cell_type": "code",
   "execution_count": 56,
   "metadata": {
    "collapsed": false
   },
   "outputs": [],
   "source": [
    "# Solution goes here"
   ]
  },
  {
   "cell_type": "code",
   "execution_count": 57,
   "metadata": {
    "collapsed": false
   },
   "outputs": [],
   "source": [
    "# Solution goes here"
   ]
  },
  {
   "cell_type": "code",
   "execution_count": 58,
   "metadata": {
    "collapsed": false
   },
   "outputs": [],
   "source": [
    "# Solution goes here"
   ]
  },
  {
   "cell_type": "code",
   "execution_count": 59,
   "metadata": {
    "collapsed": false
   },
   "outputs": [],
   "source": [
    "# Solution goes here"
   ]
  },
  {
   "cell_type": "code",
   "execution_count": 60,
   "metadata": {
    "collapsed": false
   },
   "outputs": [],
   "source": [
    "# Solution goes here"
   ]
  },
  {
   "cell_type": "code",
   "execution_count": 61,
   "metadata": {
    "collapsed": false
   },
   "outputs": [],
   "source": [
    "# Solution goes here"
   ]
  },
  {
   "cell_type": "code",
   "execution_count": 62,
   "metadata": {
    "collapsed": true
   },
   "outputs": [],
   "source": [
    "# Solution goes here"
   ]
  },
  {
   "cell_type": "code",
   "execution_count": null,
   "metadata": {
    "collapsed": true
   },
   "outputs": [],
   "source": []
  }
 ],
 "metadata": {
  "kernelspec": {
   "display_name": "Python 2",
   "language": "python",
   "name": "python2"
  },
  "language_info": {
   "codemirror_mode": {
    "name": "ipython",
    "version": 2
   },
   "file_extension": ".py",
   "mimetype": "text/x-python",
   "name": "python",
   "nbconvert_exporter": "python",
   "pygments_lexer": "ipython2",
   "version": "2.7.10"
  }
 },
 "nbformat": 4,
 "nbformat_minor": 0
}
