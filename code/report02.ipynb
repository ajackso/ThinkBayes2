{
 "cells": [
  {
   "cell_type": "markdown",
   "metadata": {},
   "source": [
    "##### License: Attribution 4.0 International (CC BY 4.0)\n",
    "\n",
    "#### [https://creativecommons.org/licenses/by/4.0/](https://creativecommons.org/licenses/by/4.0/)"
   ]
  },
  {
   "cell_type": "markdown",
   "metadata": {},
   "source": [
    "# CompBayes Report 2\n",
    "### By Andrea Jackson"
   ]
  },
  {
   "cell_type": "markdown",
   "metadata": {},
   "source": [
    "## Yuzhong's sock problem from Quiz 1"
   ]
  },
  {
   "cell_type": "markdown",
   "metadata": {},
   "source": [
    "There are two drawers of socks. The first drawer has 40 white socks and 10 black socks; the second drawer has 20 white socks and 30 black socks. We randomly get 2 socks from a drawer, and it turns out to be a pair (same color) but we don't know the color of these socks. What is the chance that we picked the first drawer?"
   ]
  },
  {
   "cell_type": "markdown",
   "metadata": {},
   "source": [
    "#### Hypothesis 1: Draw both socks from the first drawer\n",
    "#### Hypothesis 2: Draw both socks from the second drawer\n",
    "#### Data: Two socks of the same color are drawn "
   ]
  },
  {
   "cell_type": "code",
   "execution_count": 1,
   "metadata": {
    "collapsed": true
   },
   "outputs": [],
   "source": [
    "from thinkbayes2 import *\n",
    "from __future__ import division, print_function\n",
    "\n",
    "pmf = Pmf() # creates an empty Pmf with no values"
   ]
  },
  {
   "cell_type": "markdown",
   "metadata": {},
   "source": [
    "#### p(H) is the probability of the hypothesis before we see the data*"
   ]
  },
  {
   "cell_type": "code",
   "execution_count": 2,
   "metadata": {
    "collapsed": true
   },
   "outputs": [],
   "source": [
    "# create prior distributions for each hypothesis\n",
    "pmf.Set('Hypo 1',0.5)\n",
    "pmf.Set('Hypo 2',0.5)"
   ]
  },
  {
   "cell_type": "code",
   "execution_count": 3,
   "metadata": {
    "collapsed": false
   },
   "outputs": [
    {
     "data": {
      "text/plain": [
       "Pmf({'Hypo 1': 0.5, 'Hypo 2': 0.5})"
      ]
     },
     "execution_count": 3,
     "metadata": {},
     "output_type": "execute_result"
    }
   ],
   "source": [
    "pmf "
   ]
  },
  {
   "cell_type": "markdown",
   "metadata": {},
   "source": [
    "#### p(D|H) is the probability of the data under the hypothesis, called the likelihood* "
   ]
  },
  {
   "cell_type": "markdown",
   "metadata": {},
   "source": [
    "#### The likelihood of drawing both socks of the same color from drawer 1 is (40/50)(39/49) + (10/50)(9/49)\n",
    "#### The likelihood of drawing both socks of the same color from drawer 2 is (20/50)(19/49) + (30/50)(29/49)"
   ]
  },
  {
   "cell_type": "code",
   "execution_count": 4,
   "metadata": {
    "collapsed": false
   },
   "outputs": [
    {
     "data": {
      "text/plain": [
       "Pmf({'Hypo 1': 0.33673469387755106, 'Hypo 2': 0.25510204081632654})"
      ]
     },
     "execution_count": 4,
     "metadata": {},
     "output_type": "execute_result"
    }
   ],
   "source": [
    "# update the prior distributions by multiplying by the likelihoods\n",
    "like_h1 = (40/50)*(39/49) + (10/50)*(9/49)\n",
    "like_h2 = (20/50)*(19/49) + (30/50)*(29/49)\n",
    "\n",
    "pmf.Mult('Hypo 1', like_h1)\n",
    "pmf.Mult('Hypo 2', like_h2)\n",
    "\n",
    "pmf "
   ]
  },
  {
   "cell_type": "code",
   "execution_count": 5,
   "metadata": {
    "collapsed": false
   },
   "outputs": [
    {
     "data": {
      "text/plain": [
       "0.5918367346938775"
      ]
     },
     "execution_count": 5,
     "metadata": {},
     "output_type": "execute_result"
    }
   ],
   "source": [
    "# renormalize the distribution \n",
    "pmf.Normalize() "
   ]
  },
  {
   "cell_type": "code",
   "execution_count": 6,
   "metadata": {
    "collapsed": false
   },
   "outputs": [
    {
     "data": {
      "text/plain": [
       "'Hypo 1: 0.568965517241'"
      ]
     },
     "execution_count": 6,
     "metadata": {},
     "output_type": "execute_result"
    }
   ],
   "source": [
    "'Hypo 1: ' + str(pmf.Prob('Hypo 1')) "
   ]
  },
  {
   "cell_type": "code",
   "execution_count": 7,
   "metadata": {
    "collapsed": false
   },
   "outputs": [
    {
     "data": {
      "text/plain": [
       "'Hypo 2: 0.431034482759'"
      ]
     },
     "execution_count": 7,
     "metadata": {},
     "output_type": "execute_result"
    }
   ],
   "source": [
    "'Hypo 2: ' + str(pmf.Prob('Hypo 2')) "
   ]
  },
  {
   "cell_type": "markdown",
   "metadata": {},
   "source": [
    "### The chance that we picked two socks of the same color from the first drawer is about 0.569."
   ]
  },
  {
   "cell_type": "markdown",
   "metadata": {},
   "source": [
    "#### *definitions are directly from ThinkBayes Chapter 1"
   ]
  },
  {
   "cell_type": "markdown",
   "metadata": {
    "collapsed": true
   },
   "source": [
    "## Chess Problem from Quiz 1"
   ]
  },
  {
   "cell_type": "markdown",
   "metadata": {},
   "source": [
    "Two identical twins are members of my chess club, but they never show up on the same day; in fact, they strictly alternate the days they show up.  I can't tell them apart except that one is a better player than the other:  Avery beats me 60% of the time and I beat Blake 70% of the time.  If I play one twin on Monday and win, and the other twin on Tuesday and lose, which twin did I play on which day?"
   ]
  },
  {
   "cell_type": "markdown",
   "metadata": {},
   "source": [
    "##### Data\n",
    "On Monday, you played chess with a twin and won. On Tuesday, you played chess with the other twin and lost."
   ]
  },
  {
   "cell_type": "markdown",
   "metadata": {},
   "source": [
    "##### Hypotheses\n",
    "\n",
    "H1 - You played Blake on Monday and Avery on Tuesday.\n",
    "\n",
    "H2 - You played Avery on Monday and Blake on Tuesday."
   ]
  },
  {
   "cell_type": "markdown",
   "metadata": {},
   "source": [
    "| Hypothesis    | Prior p(H)    | Likelihood       | Unnorm Post. |   Posterior       |\n",
    "| ------------- |:-------------:|:----------------:|:------------:| ---------------:|\n",
    "| H1            |   0.5         | (0.7)(0.6) = 0.42 |  (0.42)(0.5) = 0.21 | 0.21/0.27 = 0.78 |\n",
    "| H2            | 0.5           | (0.4)(0.3) = 0.12 | (0.12)(0.5) = 0.06| 0.06/0.27 = 0.22|"
   ]
  },
  {
   "cell_type": "markdown",
   "metadata": {},
   "source": [
    "### Answer: Hypothesis 1 has a higher probability than Hypothesis 2. Therefore, it is more likely that you played Blake on Monday and Avery on Tuesday. "
   ]
  },
  {
   "cell_type": "markdown",
   "metadata": {},
   "source": [
    "## The Kim Rhode problem"
   ]
  },
  {
   "cell_type": "markdown",
   "metadata": {},
   "source": [
    "Exercise: At the 2016 Summer Olympics in the Women's Skeet event, Kim Rhode faced Wei Meng in the bronze medal match. They each hit 15 of 25 skeets, sending the match into sudden death. In the first round, both hit 1 of 2 skeets. In the next two rounds, they each hit 2 skeets. Finally, in the fourth round, Rhode hit 2 and Wei hit 1, so Rhode won the bronze medal, making her the first Summer Olympian to win an individual medal at six consecutive summer games.\n",
    "But after all that shooting, what is the probability that Rhode is actually a better shooter than Wei? If the same match were held again, what is the probability that Rhode would win?\n",
    "\n",
    "As always, you will have to make some modeling decisions, but one approach is to estimate, for each shooter, the probability of hitting a skeet. Then, to estimate the probability that Rhode is a better shooter, you can draw samples from the two posterior distributions and compare them. To estimate the probability of winning a rematch, you could draw samples from the posterior distributions and simulate a round of 25 shots."
   ]
  },
  {
   "cell_type": "markdown",
   "metadata": {},
   "source": [
    "### What is the probability that Rhode is actually a better shooter than Wei?"
   ]
  },
  {
   "cell_type": "code",
   "execution_count": 8,
   "metadata": {
    "collapsed": true
   },
   "outputs": [],
   "source": [
    "import numpy as np\n",
    "import thinkplot\n",
    "\n",
    "% matplotlib inline"
   ]
  },
  {
   "cell_type": "code",
   "execution_count": 9,
   "metadata": {
    "collapsed": false
   },
   "outputs": [
    {
     "data": {
      "image/png": "[encoded data removed]",
      "text/plain": [
       "<matplotlib.figure.Figure at 0x10c0f8fd0>"
      ]
     },
     "metadata": {},
     "output_type": "display_data"
    }
   ],
   "source": [
    "# estimate the probability of Rhode hitting a skeet\n",
    "rhode_prior = Beta(8,4)\n",
    "thinkplot.Pdf(rhode_prior.MakePmf())"
   ]
  },
  {
   "cell_type": "code",
   "execution_count": 10,
   "metadata": {
    "collapsed": false
   },
   "outputs": [
    {
     "data": {
      "image/png": "[encoded data removed]",
      "text/plain": [
       "<matplotlib.figure.Figure at 0x10c26d990>"
      ]
     },
     "metadata": {},
     "output_type": "display_data"
    }
   ],
   "source": [
    "rhode_update = rhode_prior.Update((22, 11)) # update distribution with the number hits and misses\n",
    "thinkplot.Pdf(rhode_prior.MakePmf())"
   ]
  },
  {
   "cell_type": "code",
   "execution_count": 11,
   "metadata": {
    "collapsed": false
   },
   "outputs": [
    {
     "data": {
      "image/png": "[encoded data removed]",
      "text/plain": [
       "<matplotlib.figure.Figure at 0x10c31b910>"
      ]
     },
     "metadata": {},
     "output_type": "display_data"
    }
   ],
   "source": [
    "# estimate the probability of Meng hitting a skeet\n",
    "wei_prior = Beta(8,4)\n",
    "thinkplot.Pdf(wei_prior.MakePmf())"
   ]
  },
  {
   "cell_type": "code",
   "execution_count": 12,
   "metadata": {
    "collapsed": false
   },
   "outputs": [
    {
     "data": {
      "image/png": "[encoded data removed]",
      "text/plain": [
       "<matplotlib.figure.Figure at 0x10c355350>"
      ]
     },
     "metadata": {},
     "output_type": "display_data"
    }
   ],
   "source": [
    "wei_update = wei_prior.Update((21, 12)) # update distribution with the number hits and misses\n",
    "thinkplot.Pdf(wei_prior.MakePmf())"
   ]
  },
  {
   "cell_type": "code",
   "execution_count": 13,
   "metadata": {
    "collapsed": false
   },
   "outputs": [
    {
     "data": {
      "text/plain": [
       "0.87329999999999997"
      ]
     },
     "execution_count": 13,
     "metadata": {},
     "output_type": "execute_result"
    }
   ],
   "source": [
    "wei_prior.MakeCdf(10001).Sample(10000).max()"
   ]
  },
  {
   "cell_type": "code",
   "execution_count": 14,
   "metadata": {
    "collapsed": true
   },
   "outputs": [],
   "source": [
    "# what is the probability that Rhode is actually a better shooter than Wei?\n",
    "\n",
    "# rhode_sample and wei_sample are arrays of randomly drawn probabilities \n",
    "# from the posterior distribution of each player\n",
    "\n",
    "# the probabilities represent the chance that a player will hit a skeet\n",
    "\n",
    "rhode_sample = rhode_prior.MakeCdf(10001).Sample(10000) \n",
    "wei_sample = rhode_prior.MakeCdf(10001).Sample(10000)"
   ]
  },
  {
   "cell_type": "code",
   "execution_count": 15,
   "metadata": {
    "collapsed": false
   },
   "outputs": [
    {
     "data": {
      "text/plain": [
       "0.49359999999999998"
      ]
     },
     "execution_count": 15,
     "metadata": {},
     "output_type": "execute_result"
    }
   ],
   "source": [
    "# compare the randomly drawn probabilities by using numpy.mean\n",
    "np.mean(rhode_sample > wei_sample)"
   ]
  },
  {
   "cell_type": "markdown",
   "metadata": {},
   "source": [
    "### The probability that Rhode is actually a better shooter than Wei is 0.504"
   ]
  },
  {
   "cell_type": "markdown",
   "metadata": {},
   "source": [
    "### If the same match were held again, what is the probability that Rhode would win?"
   ]
  },
  {
   "cell_type": "code",
   "execution_count": 16,
   "metadata": {
    "collapsed": true
   },
   "outputs": [],
   "source": [
    "# for the binomial function, n represents the trials and p represents the probability of success \n",
    "# n = 25, the number of skeets to hit in a round\n",
    "# rhode_sample contains the random probabilities of hitting a skeet \n",
    "\n",
    "rhode_rematch = np.random.binomial(25, rhode_sample)"
   ]
  },
  {
   "cell_type": "markdown",
   "metadata": {},
   "source": [
    "#### In order for Rhode to win the match again, she must hit 22 or more skeets"
   ]
  },
  {
   "cell_type": "code",
   "execution_count": 17,
   "metadata": {
    "collapsed": false
   },
   "outputs": [],
   "source": [
    "wei_rematch = np.arange(10000) # create an array of the same length as rhode_rematch\n",
    "wei_rematch.fill(22) # fill the array with 22"
   ]
  },
  {
   "cell_type": "code",
   "execution_count": 18,
   "metadata": {
    "collapsed": false
   },
   "outputs": [
    {
     "data": {
      "text/plain": [
       "0.013100000000000001"
      ]
     },
     "execution_count": 18,
     "metadata": {},
     "output_type": "execute_result"
    }
   ],
   "source": [
    "np.mean(rhode_rematch > wei_rematch)"
   ]
  },
  {
   "cell_type": "markdown",
   "metadata": {},
   "source": [
    "### The probability that Rhode would win a match held today is 0.0142"
   ]
  },
  {
   "cell_type": "markdown",
   "metadata": {},
   "source": [
    "## Handedness of Twins BT Problem"
   ]
  },
  {
   "cell_type": "markdown",
   "metadata": {},
   "source": [
    "10% of the world population is left-handed and, according to a 1996 Belgian study, about 21% of twins (both fraternal and identical) are left-handed. Twins make up 1.9% of the world population. \n",
    "\n",
    "Avery and Taylor are twins. If Avery is left-handed, what is the probability that Taylor is also left-handed? \n"
   ]
  },
  {
   "cell_type": "markdown",
   "metadata": {},
   "source": [
    "### Solution- using the table method"
   ]
  },
  {
   "cell_type": "markdown",
   "metadata": {},
   "source": [
    "#### Hypotheses "
   ]
  },
  {
   "cell_type": "markdown",
   "metadata": {},
   "source": [
    "Make sure hypotheses are mutually exclusive and collectively exhaustive.\n",
    "\n",
    "H1- Taylor is left-handed\n",
    "\n",
    "H2- Taylor is right-handed"
   ]
  },
  {
   "cell_type": "markdown",
   "metadata": {},
   "source": [
    "#### Data"
   ]
  },
  {
   "cell_type": "markdown",
   "metadata": {},
   "source": [
    "Avery and Taylor are twins. Avery is left-handed."
   ]
  },
  {
   "cell_type": "markdown",
   "metadata": {
    "collapsed": true
   },
   "source": [
    "| Hypothesis    | Prior p(H)    | Likelihood       | Unnorm Post. |   Posterior       |\n",
    "| ------------- |:-------------:|:----------------:|:------------:| ---------------:|\n",
    "| H1            |   0.1         | (0.019)(0.21) = 0.00399 |  (0.019)(0.21)(0.1) = 0.000399 | 0.000399/0.013908 = 0.0286 |\n",
    "| H2            |   0.9         | (0.019)(0.79) = 0.01501 | (0.019)(0.79)(0.9) = 0.013509| 0.013509/0.013908 = 0.9713|"
   ]
  },
  {
   "cell_type": "markdown",
   "metadata": {},
   "source": [
    "### The probability that Taylor is also left-handed is 0.0286 or 2.86%"
   ]
  },
  {
   "cell_type": "markdown",
   "metadata": {},
   "source": [
    "#### References\n",
    "\n",
    "[CNN Article about being left-handed](http://www.cnn.com/2015/11/03/health/being-left-handed-health-impact/)"
   ]
  }
 ],
 "metadata": {
  "kernelspec": {
   "display_name": "Python 2",
   "language": "python",
   "name": "python2"
  },
  "language_info": {
   "codemirror_mode": {
    "name": "ipython",
    "version": 2
   },
   "file_extension": ".py",
   "mimetype": "text/x-python",
   "name": "python",
   "nbconvert_exporter": "python",
   "pygments_lexer": "ipython2",
   "version": "2.7.10"
  }
 },
 "nbformat": 4,
 "nbformat_minor": 0
}
