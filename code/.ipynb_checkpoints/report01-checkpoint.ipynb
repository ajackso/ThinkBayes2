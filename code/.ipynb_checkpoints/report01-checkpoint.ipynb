{
 "cells": [
  {
   "cell_type": "markdown",
   "metadata": {},
   "source": [
    "##### License: Attribution 4.0 International (CC BY 4.0) \n",
    "[https://creativecommons.org/licenses/by/4.0/](https://creativecommons.org/licenses/by/4.0/)"
   ]
  },
  {
   "cell_type": "markdown",
   "metadata": {},
   "source": [
    "# CompBayes **Report 1**"
   ]
  },
  {
   "cell_type": "markdown",
   "metadata": {},
   "source": [
    "#### By Andrea Jackson"
   ]
  },
  {
   "cell_type": "markdown",
   "metadata": {
    "collapsed": true
   },
   "source": [
    "### Basketball Bayesian Theorem Problem"
   ]
  },
  {
   "cell_type": "markdown",
   "metadata": {},
   "source": [
    "\n",
    "James Harden, a shooting guard for the Houston Rockets basketball team, has an average 0.368 three-point field goal percentage (3PG%) for his regular season career. \n",
    "\n",
    "During the 2015-2016 basketball season, an avid Rockets fan analyzed how many shots Harden made and missed and how many dribbles he took before shooting. They found that Harden's 3PG% dropped significantly during the season because he dribbled the ball more frequently before attempting to shoot a three-pointer.\n",
    "\n",
    "When Harden dribbles the ball more than 3 times before he shoots, his 3PG% lowers to 0.25. On average, Harden dribbles the ball more than 3 times for 40% of the three-pointers he attempts.\n",
    "\n",
    "During a Rockets game, Harden shoots beyond the 3-point line and misses. What is the probability that Harden dribbled the ball more than 3 times before missing the shot?"
   ]
  },
  {
   "cell_type": "markdown",
   "metadata": {},
   "source": [
    "### **Solution - Using the table method**\n",
    "\n",
    "**Hypothesis**\n",
    "\n",
    "H1 - Harden dribbled the ball > 3 times\n",
    "\n",
    "H2 - Harden dribbled the ball <= 3 times\n",
    "\n",
    "**Data**\n",
    "\n",
    "Harden misses a 3-point shot."
   ]
  },
  {
   "cell_type": "markdown",
   "metadata": {},
   "source": [
    "| Hypothesis    | Prior p(H)    | Likelihood       | Unnorm Post. |   Posterior       |\n",
    "| ------------- |:-------------:|:----------------:|:------------:| ---------------:|\n",
    "| H1            |   0.4         | (1-0.25) = 0.75    |  0.3       | 0.3/0.6792 = 0.4416961131|\n",
    "| H2            | 0.6           | (1-0.368) =  0.632 | 0.3792     | 0.3792/0.6792 = 0.5583038869|"
   ]
  },
  {
   "cell_type": "markdown",
   "metadata": {},
   "source": [
    "### **Answer**: 0.442"
   ]
  },
  {
   "cell_type": "markdown",
   "metadata": {},
   "source": [
    "### Solution - Using ThinkBayes"
   ]
  },
  {
   "cell_type": "code",
   "execution_count": 1,
   "metadata": {
    "collapsed": false
   },
   "outputs": [],
   "source": [
    "from thinkbayes2 import Suite, Pmf"
   ]
  },
  {
   "cell_type": "code",
   "execution_count": 2,
   "metadata": {
    "collapsed": true
   },
   "outputs": [],
   "source": [
    "class Harden(Suite):\n",
    "    '''solution to the basketball problem using Suite framework'''\n",
    "    def __init__(self, hypos):\n",
    "        Pmf.__init__(self)\n",
    "        prob = [0.4,0.6]\n",
    "        for hypo,prob in zip(hypos,prob):\n",
    "            self.Set(hypo, prob)\n",
    "        self.Normalize()\n",
    "    \n",
    "    def Likelihood(self, data, hypo):\n",
    "            '''the data is a string, T means Harden made \n",
    "            the three-point shot, F means Harden missed it'''\n",
    "\n",
    "            # possib is a dictionary of hypotheses \n",
    "            # that each contain a dictionary of likelihoods\n",
    "            possib = {\n",
    "            'Hypo 1':dict(T=0.25, F=0.75),\n",
    "            'Hypo 2':dict(T=0.368, F=0.632),\n",
    "            }\n",
    "    \n",
    "            likelihoodDict = possib[hypo]\n",
    "            like = likelihoodDict[data]\n",
    "            return like"
   ]
  },
  {
   "cell_type": "code",
   "execution_count": 3,
   "metadata": {
    "collapsed": false
   },
   "outputs": [],
   "source": [
    "bball_suite = Harden(['Hypo 1','Hypo 2'])"
   ]
  },
  {
   "cell_type": "code",
   "execution_count": 4,
   "metadata": {
    "collapsed": false
   },
   "outputs": [
    {
     "data": {
      "text/plain": [
       "0.6792"
      ]
     },
     "execution_count": 4,
     "metadata": {},
     "output_type": "execute_result"
    }
   ],
   "source": [
    "bball_suite.Update('F')"
   ]
  },
  {
   "cell_type": "code",
   "execution_count": 5,
   "metadata": {
    "collapsed": false
   },
   "outputs": [
    {
     "name": "stdout",
     "output_type": "stream",
     "text": [
      "Hypo 1 0.441696113074\n",
      "Hypo 2 0.558303886926\n"
     ]
    }
   ],
   "source": [
    "bball_suite.Print()"
   ]
  },
  {
   "cell_type": "markdown",
   "metadata": {},
   "source": [
    "### Answer: 0.442"
   ]
  },
  {
   "cell_type": "markdown",
   "metadata": {},
   "source": [
    "### What if Harden missed 5 three-pointer shots in a row? What is the probability that Harden missed 5 consecutive shots because he was dribbling more than 3 times for each shot?"
   ]
  },
  {
   "cell_type": "code",
   "execution_count": 6,
   "metadata": {
    "collapsed": false
   },
   "outputs": [
    {
     "data": {
      "text/plain": [
       "0.15541926544945922"
      ]
     },
     "execution_count": 6,
     "metadata": {},
     "output_type": "execute_result"
    }
   ],
   "source": [
    "missed_suite = Harden(['Hypo 1','Hypo 2'])\n",
    "missed_suite.UpdateSet('FFFFF')"
   ]
  },
  {
   "cell_type": "code",
   "execution_count": 7,
   "metadata": {
    "collapsed": false
   },
   "outputs": [
    {
     "name": "stdout",
     "output_type": "stream",
     "text": [
      "Harden({'Hypo 1': 0.6107471601123199, 'Hypo 2': 0.38925283988768006})\n"
     ]
    }
   ],
   "source": [
    "print missed_suite"
   ]
  },
  {
   "cell_type": "markdown",
   "metadata": {},
   "source": [
    "#### References/Inspiration for this Bayes Theorem Problem\n",
    "\n",
    "[James Harden basketball stats from Wikipedia](https://www.wikiwand.com/en/James_Harden)\n",
    "\n",
    "[James Harden's Dribbling Is Hurting His Three Point Shooting article](http://www.thedreamshake.com/2015/12/9/9877668/james-harden-dribbling-hurting-three-point-shooting-houston-rockets)"
   ]
  },
  {
   "cell_type": "markdown",
   "metadata": {},
   "source": [
    "### Zombieland Problem from Reddit \n"
   ]
  },
  {
   "cell_type": "markdown",
   "metadata": {},
   "source": [
    "[Zombieland Problem link](https://www.reddit.com/r/probabilitytheory/comments/500vjf/what_is_the_logic_behind_solving_this_question/)\n",
    "\n",
    "The fictional university of ZombieLand - has n students volunteer for the role of Killing Assistants, student volunteers who help in smooth killing of zombies in the campus. Every student can either manage to shoot a zombie or miss it.\n",
    "\n",
    "Out of these n Killing Assistants, m students try to shoot the zombie fairly, that is, they are unbiased, while the rest of them are biased. The probability that a zombie will be hit by a shot if the Killing Assistant is biased is 2/3, otherwise the probability is 1/2.\n",
    "\n",
    "Little Harry figures out this mess by selecting a Killing Assistant randomly. He tricks that particular Killing Assistant in shooting the same zombie twice. The first time, the Killing Assistant shoots the zombie, while the other time, he ends up missing it.\n",
    "\n",
    "Harry wants to know what are the chances that the selected Killing Assistant was NOT biased."
   ]
  },
  {
   "cell_type": "markdown",
   "metadata": {},
   "source": [
    "**Hypothesis**\n",
    "\n",
    "H1 - The selected Killing Assistant is **NOT** biased\n",
    "\n",
    "H2 - The selected Killing Assistant **IS** biased\n",
    "\n",
    "**Data**\n",
    "\n",
    "First time, Killing Assistant shoots and hits zombie.\n",
    "\n",
    "Second time, Killing Assistant shoots and misses zombie."
   ]
  },
  {
   "cell_type": "markdown",
   "metadata": {},
   "source": [
    "| Hypothesis    | Prior p(H)    | Likelihood       | Unnorm Post. | Posterior       |\n",
    "| ------------- |:-------------:|:----------------:|:------------:| ---------------:|\n",
    "| H1            | m/n           | (1/2)(1/2)       |  m/4n        |    9m/(8n+m)    |\n",
    "| H2            | (n-m)/n       | (2/3)(1/3)       | 2(n-m)/(9n)  |                 |"
   ]
  },
  {
   "cell_type": "markdown",
   "metadata": {},
   "source": [
    "#### Algebra\n",
    "p(D) = m/4n + 2(n-m)/(9n)\n",
    "\n",
    "     = 9m/36n + 8(n-m)/36n\n",
    "     \n",
    "     = [9m + 8(n-m)]/36n\n",
    "     \n",
    "p(H1|D) = [ p(H1) p(D|H1) ] / p(D)\n",
    "\n",
    "        = (m/4n)/[(9m+8(n-m))/36n]\n",
    "        \n",
    "        = 36nm/[4n(9m+8n-8m)]\n",
    "        \n",
    "        = 36nm/[36nm+(32n^2)-32nm]\n",
    "        \n",
    "        = 36nm/[(32n^2)+4nm]\n",
    "        \n",
    "        after factoring out 4n from numerator and denominator\n",
    "        \n",
    "        = 9m/(8n+m)"
   ]
  },
  {
   "cell_type": "markdown",
   "metadata": {},
   "source": [
    "### **Answer**: 9m/(8n+m)"
   ]
  },
  {
   "cell_type": "code",
   "execution_count": null,
   "metadata": {
    "collapsed": true
   },
   "outputs": [],
   "source": []
  }
 ],
 "metadata": {
  "kernelspec": {
   "display_name": "Python 2",
   "language": "python",
   "name": "python2"
  },
  "language_info": {
   "codemirror_mode": {
    "name": "ipython",
    "version": 2
   },
   "file_extension": ".py",
   "mimetype": "text/x-python",
   "name": "python",
   "nbconvert_exporter": "python",
   "pygments_lexer": "ipython2",
   "version": "2.7.10"
  }
 },
 "nbformat": 4,
 "nbformat_minor": 0
}
