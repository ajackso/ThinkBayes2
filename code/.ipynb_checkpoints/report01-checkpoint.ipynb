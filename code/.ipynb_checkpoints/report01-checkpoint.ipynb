{
 "cells": [
  {
   "cell_type": "markdown",
   "metadata": {},
   "source": [
    "# CompBayes **Report 1**"
   ]
  },
  {
   "cell_type": "markdown",
   "metadata": {},
   "source": [
    "#### By Andrea Jackson"
   ]
  },
  {
   "cell_type": "markdown",
   "metadata": {
    "collapsed": true
   },
   "source": [
    "### Basketball Bayesian Theorem Problem"
   ]
  },
  {
   "cell_type": "markdown",
   "metadata": {},
   "source": [
    "\n",
    "James Harden, a shooting guard for the Houston Rockets basketball team, has an average 0.368 3-point field goal percentage (3PG%) for his regular season career. When Harden dribbles the ball more than 3 times before he shoots, his 3PG% lowers to 0.25. Harden dribbles the ball >3 times 2/5 of the time.  \n",
    "\n",
    "During a Rockets game, Harden shoots beyond the 3-point line and misses. What is the probability that Harden dribbled the ball >3 times before missing the shot?"
   ]
  },
  {
   "cell_type": "markdown",
   "metadata": {},
   "source": [
    "**Solution**\n",
    "\n",
    "**Hypothesis**\n",
    "\n",
    "H1 - Harden dribbled the ball > 3 times\n",
    "\n",
    "H2 - Harden dribbled the ball <= 3 times\n",
    "\n",
    "**Data**\n",
    "\n",
    "Harden misses a 3-point shot."
   ]
  },
  {
   "cell_type": "markdown",
   "metadata": {},
   "source": [
    "| Hypothesis    | Prior p(H)    | Likelihood       | Unnorm Post. |   Posterior       |\n",
    "| ------------- |:-------------:|:----------------:|:------------:| ---------------:|\n",
    "| H1            |   0.4         | 0.25       |  0.1      |    0.1/0.4792 = 0.210     |\n",
    "| H2            | 0.6      | (1-0.368) =  0.632      | 0.3792  |        0.3792/0.4792 = 0.791 |"
   ]
  },
  {
   "cell_type": "markdown",
   "metadata": {},
   "source": [
    "### **Answer**: 0.210"
   ]
  },
  {
   "cell_type": "markdown",
   "metadata": {},
   "source": [
    "[James Harden basketball stats](https://www.wikiwand.com/en/James_Harden)\n",
    "\n",
    "[Dribbles idea](http://www.thedreamshake.com/2015/12/9/9877668/james-harden-dribbling-hurting-three-point-shooting-houston-rockets)"
   ]
  },
  {
   "cell_type": "markdown",
   "metadata": {},
   "source": [
    "### Zombieland Problem from Reddit \n"
   ]
  },
  {
   "cell_type": "markdown",
   "metadata": {},
   "source": [
    "[Zombieland Problem link](https://www.reddit.com/r/probabilitytheory/comments/500vjf/what_is_the_logic_behind_solving_this_question/)\n",
    "\n",
    "The fictional university of ZombieLand - has n students volunteer for the role of Killing Assistants, student volunteers who help in smooth killing of zombies in the campus. Every student can either manage to shoot a zombie or miss it.\n",
    "\n",
    "Out of these n Killing Assistants, m students try to shoot the zombie fairly, that is, they are unbiased, while the rest of them are biased. The probability that a zombie will be hit by a shot if the Killing Assistant is biased is 2/3, otherwise the probability is 1/2.\n",
    "\n",
    "Little Harry figures out this mess by selecting a Killing Assistant randomly. He tricks that particular Killing Assistant in shooting the same zombie twice. The first time, the Killing Assistant shoots the zombie, while the other time, he ends up missing it.\n",
    "\n",
    "Harry wants to know what are the chances that the selected Killing Assistant was NOT biased."
   ]
  },
  {
   "cell_type": "markdown",
   "metadata": {},
   "source": [
    "**Hypothesis**\n",
    "\n",
    "H1 - The selected Killing Assistant is **NOT** biased\n",
    "\n",
    "H2 - The selected Killing Assistant **IS** biased\n",
    "\n",
    "**Data**\n",
    "\n",
    "First time, Killing Assistant shoots and hits zombie.\n",
    "\n",
    "Second time, Killing Assistant shoots and misses zombie."
   ]
  },
  {
   "cell_type": "markdown",
   "metadata": {},
   "source": [
    "| Hypothesis    | Prior p(H)    | Likelihood       | Unnorm Post. | Posterior       |\n",
    "| ------------- |:-------------:|:----------------:|:------------:| ---------------:|\n",
    "| H1            | m/n           | (1/2)(1/2)       |  m/4n        |    9m/(8n+m)    |\n",
    "| H2            | (n-m)/n       | (2/3)(1/3)       | 2(n-m)/(9n)  |                 |"
   ]
  },
  {
   "cell_type": "markdown",
   "metadata": {},
   "source": [
    "#### Algebra\n",
    "p(D) = m/4n + 2(n-m)/(9n)\n",
    "\n",
    "     = 9m/36n + 8(n-m)/36n\n",
    "     \n",
    "     = [9m + 8(n-m)]/36n\n",
    "     \n",
    "p(H1|D) = [ p(H1) p(D|H1) ] / p(D)\n",
    "\n",
    "        = (m/4n)/[(9m+8(n-m))/36n]\n",
    "        \n",
    "        = 36nm/[4n(9m+8n-8m)]\n",
    "        \n",
    "        = 36nm/[36nm+(32n^2)-32nm]\n",
    "        \n",
    "        = 36nm/[(32n^2)+4nm]\n",
    "        \n",
    "        after factoring out 4n from numerator and denominator\n",
    "        \n",
    "        = 9m/(8n+m)"
   ]
  },
  {
   "cell_type": "markdown",
   "metadata": {},
   "source": [
    "### **Answer**: 9m/(8n+m)"
   ]
  },
  {
   "cell_type": "code",
   "execution_count": null,
   "metadata": {
    "collapsed": true
   },
   "outputs": [],
   "source": []
  }
 ],
 "metadata": {
  "kernelspec": {
   "display_name": "Python 2",
   "language": "python",
   "name": "python2"
  },
  "language_info": {
   "codemirror_mode": {
    "name": "ipython",
    "version": 2
   },
   "file_extension": ".py",
   "mimetype": "text/x-python",
   "name": "python",
   "nbconvert_exporter": "python",
   "pygments_lexer": "ipython2",
   "version": "2.7.10"
  }
 },
 "nbformat": 4,
 "nbformat_minor": 0
}
