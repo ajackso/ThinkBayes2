{
 "cells": [
  {
   "cell_type": "markdown",
   "metadata": {},
   "source": [
    "##### License: Attribution 4.0 International (CC BY 4.0) \n",
    "[https://creativecommons.org/licenses/by/4.0/](https://creativecommons.org/licenses/by/4.0/)"
   ]
  },
  {
   "cell_type": "markdown",
   "metadata": {},
   "source": [
    "# CompBayes **Report 3**"
   ]
  },
  {
   "cell_type": "markdown",
   "metadata": {},
   "source": [
    "#### By Andrea Jackson"
   ]
  },
  {
   "cell_type": "markdown",
   "metadata": {
    "collapsed": true
   },
   "source": [
    "### Allergic Dinner Problem (Chapter 5 exercise)"
   ]
  },
  {
   "cell_type": "markdown",
   "metadata": {},
   "source": [
    "Suppose you are having a dinner party with 10 guests and 4 of them are allergic to cats. Because you have cats, you expect 50% of the allergic guests to sneeze during dinner. At the same time, you expect 10% of the non-allergic guests to sneeze. What is the distribution of the total number of guests who sneeze?"
   ]
  },
  {
   "cell_type": "code",
   "execution_count": 8,
   "metadata": {
    "collapsed": true
   },
   "outputs": [],
   "source": [
    "from __future__ import print_function, division\n",
    "\n",
    "% matplotlib inline\n",
    "import warnings\n",
    "warnings.filterwarnings('ignore')\n",
    "\n",
    "import numpy as np\n",
    "\n",
    "from thinkbayes2 import Pmf, Cdf, Suite, Beta, MakeBinomialPmf, Joint, MakeJoint\n",
    "import thinkplot"
   ]
  },
  {
   "cell_type": "code",
   "execution_count": 9,
   "metadata": {
    "collapsed": false
   },
   "outputs": [],
   "source": [
    "# the number of guests that are allergic\n",
    "numAllergic = 4\n",
    "\n",
    "# the number of guests that are not allergic\n",
    "numNonAllergic = 6\n",
    "\n",
    "# probability allergic guests will sneeze\n",
    "probA_sneeze = 0.5\n",
    "\n",
    "# probability non-Allergic guest will sneeze\n",
    "probNA_sneeze = 0.1"
   ]
  },
  {
   "cell_type": "code",
   "execution_count": 10,
   "metadata": {
    "collapsed": false
   },
   "outputs": [],
   "source": [
    "allergicPmfB = MakeBinomialPmf(numAllergic, probA_sneeze)\n",
    "nonAllergicPmfB = MakeBinomialPmf(numNonAllergic, probNA_sneeze)\n",
    "\n",
    "# using Pmf.__add__ to enumerate all pairs of values between \n",
    "# allergicPmf and nonAllergicPmf and compute the sum and prob of each pair\n",
    "total_sneezesB = allergicPmfB + nonAllergicPmfB"
   ]
  },
  {
   "cell_type": "code",
   "execution_count": 11,
   "metadata": {
    "collapsed": false
   },
   "outputs": [
    {
     "data": {
      "image/png": "[encoded data removed]",
      "text/plain": [
       "<matplotlib.figure.Figure at 0x105d86c10>"
      ]
     },
     "metadata": {},
     "output_type": "display_data"
    }
   ],
   "source": [
    "# The result is a distribution of the sum of two binomials or a convolution\n",
    "# Two or three guests will most likely sneeze at the dinner party.\n",
    "thinkplot.Hist(total_sneezesB)"
   ]
  },
  {
   "cell_type": "markdown",
   "metadata": {
    "collapsed": true
   },
   "source": [
    "### Improving reading ability problem (Chapter 9 exercise)"
   ]
  },
  {
   "cell_type": "markdown",
   "metadata": {},
   "source": [
    "### Improving Reading Ability problem (Chapter 9 exercise)\n",
    "\n",
    "From DASL(http://lib.stat.cmu.edu/DASL/Stories/ImprovingReadingAbility.html)\n",
    "\n",
    "> An educator conducted an experiment to test whether new directed reading activities in the classroom will help elementary school pupils improve some aspects of their reading ability. She arranged for a third grade class of 21 students to follow these activities for an 8-week period. A control classroom of 23 third graders followed the same curriculum without the activities. At the end of the 8 weeks, all students took a Degree of Reading Power (DRP) test, which measures the aspects of reading ability that the treatment is designed to improve.\n",
    "\n",
    "> Summary statistics on the two groups of children show that the average score of the treatment class was almost ten points higher than the average of the control class. A two-sample t-test is appropriate for testing whether this difference is statistically significant. The t-statistic is 2.31, which is significant at the .05 level."
   ]
  },
  {
   "cell_type": "markdown",
   "metadata": {},
   "source": [
    "#### All of the code in the cell below is from Allen Downey's ThinkBayes Chapter 9 notebook."
   ]
  },
  {
   "cell_type": "code",
   "execution_count": 12,
   "metadata": {
    "collapsed": false
   },
   "outputs": [],
   "source": [
    "import pandas as pd\n",
    "df = pd.read_csv('drp_scores.csv', skiprows=22, delimiter='\\t')\n",
    "\n",
    "from scipy.stats import norm\n",
    "\n",
    "# multiple inheritance\n",
    "class Normal(Suite, Joint):\n",
    "    def Likelihood(self, data, hypo):\n",
    "        \"\"\"\n",
    "        data: sequence of test scores\n",
    "        hypo: mu, sigma\n",
    "        \"\"\"\n",
    "        mu, sigma = hypo\n",
    "        likes = norm.pdf(data, mu, sigma) # produces a likelihood for each data\n",
    "        return np.prod(likes) # produces a product of the likelihood\n",
    "    \n",
    "from itertools import product # returns all the possible selections from a sequence\n",
    "mus = np.linspace(20, 80, 101) # 101 values that are equally spaced from 20 to 80\n",
    "sigmas = np.linspace(5, 30, 101) # 101 values are equally spaced from 5 to 30\n",
    "\n",
    "control = Normal(product(mus, sigmas))\n",
    "data = df[df.Treatment=='Control'].Response\n",
    "control.Update(data) # returns total likelihood of data\n",
    "\n",
    "pmf_mu0 = control.Marginal(0)\n",
    "pmf_sigma0 = control.Marginal(1)"
   ]
  },
  {
   "cell_type": "markdown",
   "metadata": {},
   "source": [
    "### **Exercise**: \n",
    "Run this analysis again for the control group.  What is the distribution of the difference between the groups?  What is the probability that the average \"reading power\" for the treatment group is higher?  What is the probability that the variance of the treatment group is higher?"
   ]
  },
  {
   "cell_type": "code",
   "execution_count": 13,
   "metadata": {
    "collapsed": false
   },
   "outputs": [
    {
     "data": {
      "text/plain": [
       "4.5285690956159087e-37"
      ]
     },
     "execution_count": 13,
     "metadata": {},
     "output_type": "execute_result"
    }
   ],
   "source": [
    "treatment = Normal(product(mus, sigmas))\n",
    "# create a dataframe of the treatment group\n",
    "data_treatment = df[df.Treatment=='Treated'].Response \n",
    "treatment.Update(data_treatment) # returns total likelihood of data"
   ]
  },
  {
   "cell_type": "code",
   "execution_count": 14,
   "metadata": {
    "collapsed": false
   },
   "outputs": [
    {
     "data": {
      "image/png": "[encoded data removed]",
      "text/plain": [
       "<matplotlib.figure.Figure at 0x1077d2c50>"
      ]
     },
     "metadata": {},
     "output_type": "display_data"
    }
   ],
   "source": [
    "# contour plot of the treatment group\n",
    "thinkplot.Contour(treatment, pcolor=True)"
   ]
  },
  {
   "cell_type": "code",
   "execution_count": 15,
   "metadata": {
    "collapsed": false
   },
   "outputs": [
    {
     "data": {
      "image/png": "[encoded data removed]",
      "text/plain": [
       "<matplotlib.figure.Figure at 0x107adcb90>"
      ]
     },
     "metadata": {},
     "output_type": "display_data"
    }
   ],
   "source": [
    "# the marginal distribution of the treatment group's mu (mean)\n",
    "pmf_mu1 = treatment.Marginal(0)\n",
    "thinkplot.Pdf(pmf_mu1)"
   ]
  },
  {
   "cell_type": "code",
   "execution_count": 16,
   "metadata": {
    "collapsed": false
   },
   "outputs": [
    {
     "data": {
      "image/png": "[encoded data removed]",
      "text/plain": [
       "<matplotlib.figure.Figure at 0x107e14690>"
      ]
     },
     "metadata": {},
     "output_type": "display_data"
    }
   ],
   "source": [
    "# the marginal distribution of the treatment group's sigma (standard deviation)\n",
    "pmf_sigma1 = treatment.Marginal(1)\n",
    "thinkplot.Pdf(pmf_sigma1)"
   ]
  },
  {
   "cell_type": "markdown",
   "metadata": {},
   "source": [
    "#### What is the distribution of the difference between the groups?"
   ]
  },
  {
   "cell_type": "code",
   "execution_count": 17,
   "metadata": {
    "collapsed": false
   },
   "outputs": [
    {
     "data": {
      "image/png": "[encoded data removed]",
      "text/plain": [
       "<matplotlib.figure.Figure at 0x107bcb190>"
      ]
     },
     "metadata": {},
     "output_type": "display_data"
    }
   ],
   "source": [
    "# using Pmf.__sub__ we can find the difference between the treatment and control group\n",
    "diff_dist_mu = pmf_mu1 - pmf_mu0\n",
    "thinkplot.Pdf(diff_dist_mu)"
   ]
  },
  {
   "cell_type": "code",
   "execution_count": 18,
   "metadata": {
    "collapsed": false
   },
   "outputs": [
    {
     "data": {
      "image/png": "[encoded data removed]",
      "text/plain": [
       "<matplotlib.figure.Figure at 0x105db3f10>"
      ]
     },
     "metadata": {},
     "output_type": "display_data"
    }
   ],
   "source": [
    "diff_dist_sigma = pmf_sigma1 - pmf_sigma0\n",
    "thinkplot.Pdf(diff_dist_sigma)"
   ]
  },
  {
   "cell_type": "code",
   "execution_count": 19,
   "metadata": {
    "collapsed": false
   },
   "outputs": [],
   "source": [
    "jointDist = MakeJoint(diff_dist_mu,diff_dist_sigma)"
   ]
  },
  {
   "cell_type": "code",
   "execution_count": 20,
   "metadata": {
    "collapsed": false
   },
   "outputs": [
    {
     "data": {
      "image/png": "[encoded data removed]",
      "text/plain": [
       "<matplotlib.figure.Figure at 0x107ce1bd0>"
      ]
     },
     "metadata": {},
     "output_type": "display_data"
    }
   ],
   "source": [
    "thinkplot.Contour(jointDist, pcolor=True)"
   ]
  },
  {
   "cell_type": "markdown",
   "metadata": {},
   "source": [
    "#### What is the probability that the average \"reading power\" for the treatment group is higher?"
   ]
  },
  {
   "cell_type": "code",
   "execution_count": 21,
   "metadata": {
    "collapsed": false
   },
   "outputs": [
    {
     "data": {
      "text/plain": [
       "0.98047902518732777"
      ]
     },
     "execution_count": 21,
     "metadata": {},
     "output_type": "execute_result"
    }
   ],
   "source": [
    "from thinkbayes2 import *\n",
    "PmfProbGreater(pmf_mu1,pmf_mu0)"
   ]
  },
  {
   "cell_type": "markdown",
   "metadata": {},
   "source": [
    "#### What is the probability that the variance of the treatment group is higher?"
   ]
  },
  {
   "cell_type": "code",
   "execution_count": 22,
   "metadata": {
    "collapsed": false
   },
   "outputs": [
    {
     "data": {
      "text/plain": [
       "0.02688748111057556"
      ]
     },
     "execution_count": 22,
     "metadata": {},
     "output_type": "execute_result"
    }
   ],
   "source": [
    "PmfProbGreater(pmf_sigma1,pmf_sigma0)"
   ]
  },
  {
   "cell_type": "markdown",
   "metadata": {},
   "source": [
    "### Lincoln index problem by John D. Cook (Chapter 9 exercise)"
   ]
  },
  {
   "cell_type": "markdown",
   "metadata": {},
   "source": [
    "\"Suppose you have a tester who finds 20 bugs in your program. You want to estimate how many bugs are really in the program. You know there are at least 20 bugs, and if you have supreme confidence in your tester, you may suppose there are around 20 bugs. But maybe your tester isn't very good. Maybe there are hundreds of bugs. How can you have any idea how many bugs there are? There’s no way to know with one tester. But if you have two testers, you can get a good idea, even if you don’t know how skilled the testers are.\n",
    "\n",
    "\"Suppose two testers independently search for bugs. Let k1 be the number of errors the first tester finds and k2 the number of errors the second tester finds. Let c be the number of errors both testers find. The Lincoln Index estimates the total number of errors as k1 k2 / c [I changed his notation to be consistent with mine].\"\n",
    "\n",
    "So if the first tester finds 20 bugs, the second finds 15, and they find 3 in common, we estimate that there are about 100 bugs. What is the Bayesian estimate of the number of errors based on this data?"
   ]
  },
  {
   "cell_type": "code",
   "execution_count": 133,
   "metadata": {
    "collapsed": false
   },
   "outputs": [],
   "source": [
    "from thinkbayes2 import EvalBinomialPmf, MakeUniformPmf\n",
    "from scipy.stats import uniform, binom\n",
    "\n",
    "k1 = 20 # number of bugs found by tester 1\n",
    "k2 = 15 # number of bugs found by tester 2\n",
    "c = 3 # the number of bugs found in common\n",
    "\n",
    "data = (k1,k2,c)\n",
    "# hypo is a tuple of n, p1, p2"
   ]
  },
  {
   "cell_type": "code",
   "execution_count": 134,
   "metadata": {
    "collapsed": false
   },
   "outputs": [],
   "source": [
    "class Lincoln(Suite, Joint):\n",
    "    \n",
    "    def Likelihood(self, data, hypo):\n",
    "        \"\"\"\n",
    "        data: k1,k2,c\n",
    "        hypo: n,p1,p2\n",
    "        \"\"\"\n",
    "        n,p1,p2 = hypo\n",
    "        k1,k2,c = data\n",
    "\n",
    "        like1 = EvalBinomialPmf(k1, n, p1)\n",
    "        like2 = EvalBinomialPmf(k2, n, p2)\n",
    "        return like1*like2\n",
    "    "
   ]
  },
  {
   "cell_type": "markdown",
   "metadata": {},
   "source": [
    "### Original Problem"
   ]
  },
  {
   "cell_type": "markdown",
   "metadata": {
    "collapsed": true
   },
   "source": [
    "At least 1 original type 2 problem\n",
    "\n",
    "Type 1: Simple to state, small number of hypotheses, prior is either explicit or uncontroversial.  \n",
    "Examples: Elvis, dice, M&M, socks, etc.\n",
    "\n",
    "Type 2: Might require more work to formulate, more hypotheses, prior might take some thought. \n",
    "Examples: train, Euro, Kim Rhode.\n",
    "\n",
    "Type 3: Involves estimating multiple parameters and working with joint distributions."
   ]
  },
  {
   "cell_type": "markdown",
   "metadata": {},
   "source": [
    "### Update on final project"
   ]
  },
  {
   "cell_type": "markdown",
   "metadata": {},
   "source": [
    "### Original plan: \n",
    "My partner for the final project is Yada. We want to do a final project related to survival analysis and MCMC. We are considering doing survival analysis on Airbnb properties. Check out Yada's report 3 for notes we created for survival analysis and a google doc of our other ideas for the final project. "
   ]
  },
  {
   "cell_type": "markdown",
   "metadata": {},
   "source": [
    "### Backup plan:\n",
    "If our original plan ends up being unfeasible or just doesn't work, an idea for a back up plan is to analyze our gmail inboxes. As explained in Think Bayes Chapter 7, a Poisson process is \"the continuous version of a Bernoulli process, where an event can occur at any point in time with equal probability\". Receiving emails can be modelled by a Poisson process. I can create a timeseries of when I receive emails and use the timeseries to calculate lambda. With a poisson process, I can answer questions similar to those answered in Chapter 7. I haven't considered what specific interesting question(s) I could answer about my gmail inbox, but I'll determine one soon."
   ]
  }
 ],
 "metadata": {
  "kernelspec": {
   "display_name": "Python 2",
   "language": "python",
   "name": "python2"
  },
  "language_info": {
   "codemirror_mode": {
    "name": "ipython",
    "version": 2
   },
   "file_extension": ".py",
   "mimetype": "text/x-python",
   "name": "python",
   "nbconvert_exporter": "python",
   "pygments_lexer": "ipython2",
   "version": "2.7.10"
  }
 },
 "nbformat": 4,
 "nbformat_minor": 0
}
